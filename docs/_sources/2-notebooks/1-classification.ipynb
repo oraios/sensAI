{
 "cells": [
  {
   "cell_type": "markdown",
   "metadata": {},
   "source": [
    "# Introduction to sensAI: Supervised Learning with VectorModels"
   ]
  },
  {
   "cell_type": "code",
   "execution_count": 1,
   "metadata": {
    "execution": {
     "iopub.execute_input": "2025-07-17T17:34:33.115689Z",
     "iopub.status.busy": "2025-07-17T17:34:33.115473Z",
     "iopub.status.idle": "2025-07-17T17:34:33.130744Z",
     "shell.execute_reply": "2025-07-17T17:34:33.130051Z"
    },
    "tags": [
     "hide-cell"
    ]
   },
   "outputs": [],
   "source": [
    "%load_ext autoreload\n",
    "%autoreload 2"
   ]
  },
  {
   "cell_type": "code",
   "execution_count": 2,
   "metadata": {
    "execution": {
     "iopub.execute_input": "2025-07-17T17:34:33.133146Z",
     "iopub.status.busy": "2025-07-17T17:34:33.132831Z",
     "iopub.status.idle": "2025-07-17T17:34:34.447357Z",
     "shell.execute_reply": "2025-07-17T17:34:34.446593Z"
    },
    "tags": [
     "hide-cell"
    ]
   },
   "outputs": [],
   "source": [
    "import sys\n",
    "sys.path.append(\"../src\")\n",
    "\n",
    "import sensai\n",
    "import numpy as np"
   ]
  },
  {
   "cell_type": "markdown",
   "metadata": {},
   "source": [
    "## Logging\n",
    "\n",
    "sensAI will log relevant activies and inform about ongoing processes as well as results via the log. It is therefore highly recommended that logging be enabled when using sensAI.\n",
    "\n",
    "sensAI provides a `logging` module which includes Python's standard logging module and adds some additional functionality. To enable logging, simply use its `configureLogging` function.\n"
   ]
  },
  {
   "cell_type": "code",
   "execution_count": 3,
   "metadata": {
    "execution": {
     "iopub.execute_input": "2025-07-17T17:34:34.450484Z",
     "iopub.status.busy": "2025-07-17T17:34:34.449980Z",
     "iopub.status.idle": "2025-07-17T17:34:34.469034Z",
     "shell.execute_reply": "2025-07-17T17:34:34.468323Z"
    }
   },
   "outputs": [],
   "source": [
    "from sensai.util import logging\n",
    "\n",
    "logging.configure(level=logging.INFO)"
   ]
  },
  {
   "cell_type": "markdown",
   "metadata": {},
   "source": [
    "To additionally write log output to a file, use the function `logging.add_file_logger`.\n",
    "\n",
    "## VectorModels\n",
    "\n",
    "The central base class for supervised learning problems in sensAI is `VectorModel`. A VectorModel is any model which operates on data points that can be reprsented as vectors of data. Here, vector is to be understood not in the mathematical sense but in the computer science sense, where a vector is simply an array of (potentially arbitaririly complex) data. (The mathematical equivalent is a tuple.) Models are typically expected to be able to process more than one data point at a time and thus should be able to process a sequence of vectors. \n",
    "\n",
    "We use pandas DataFrames to represent such sequences of data points. Note that pandas DataFrames are not limited to primitive data types but can hold arbitrary objects in every cell. When dealing with a large number of inputs, DataFrames also provide at least limited meta-information in the form of column names, so we do not lose track of what is contained in which element of a data point (vector).\n",
    "\n",
    "VectorModel itself is an abstract base class, which provides a lot of useful functionality that all its specialisations inherit (as we will see later, particularly in the more advanced tutorials). The class is specialised in `VectorClassificationModel` and `VectorRegressionModel`, which in turn are specialised for various machine learning frameworks (such as sklearn and PyTorch) or can be directly subclassed to create your own model. \n",
    "\n",
    "In this tutorial, we will be dealing with a classification problem. Therefore, we will apply subclasses of `VectorClassificationModel` such as `SkLearnRandomForestVectorClassificationModel`. As an sklearn classification model which uses a well-defined training and inference interface, the implementation of the class is essentially justa few lines of code (given the intermediate abstraction `AbstractSkLearnVectorClassificationModel` for all classification models that use the sklearn protocol)."
   ]
  },
  {
   "cell_type": "markdown",
   "metadata": {},
   "source": [
    "## Training and Evaluating Models\n",
    "\n",
    "First, let us load a dataset which we can experiment. sklearn provides, for example, the Iris classification dataset, where the task is to differentiate three different types of flowers based on measurements of their petals and sepals."
   ]
  },
  {
   "cell_type": "code",
   "execution_count": 4,
   "metadata": {
    "execution": {
     "iopub.execute_input": "2025-07-17T17:34:34.471969Z",
     "iopub.status.busy": "2025-07-17T17:34:34.471575Z",
     "iopub.status.idle": "2025-07-17T17:34:34.493431Z",
     "shell.execute_reply": "2025-07-17T17:34:34.492679Z"
    }
   },
   "outputs": [],
   "source": [
    "import sklearn.datasets\n",
    "import pandas as pd\n",
    "\n",
    "iris_data = sklearn.datasets.load_iris()\n",
    "iris_input_df = pd.DataFrame(iris_data[\"data\"], columns=iris_data[\"feature_names\"]).reset_index(drop=True)\n",
    "iris_output_df = pd.DataFrame({\"class\": [iris_data[\"target_names\"][idx] for idx in iris_data[\"target\"]]}).reset_index(drop=True)"
   ]
  },
  {
   "cell_type": "markdown",
   "metadata": {},
   "source": [
    "Here's a sample of the data, combining both the inputs and outputs:"
   ]
  },
  {
   "cell_type": "code",
   "execution_count": 5,
   "metadata": {
    "execution": {
     "iopub.execute_input": "2025-07-17T17:34:34.496136Z",
     "iopub.status.busy": "2025-07-17T17:34:34.495738Z",
     "iopub.status.idle": "2025-07-17T17:34:34.525694Z",
     "shell.execute_reply": "2025-07-17T17:34:34.524957Z"
    }
   },
   "outputs": [
    {
     "data": {
      "text/html": [
       "<div>\n",
       "<style scoped>\n",
       "    .dataframe tbody tr th:only-of-type {\n",
       "        vertical-align: middle;\n",
       "    }\n",
       "\n",
       "    .dataframe tbody tr th {\n",
       "        vertical-align: top;\n",
       "    }\n",
       "\n",
       "    .dataframe thead th {\n",
       "        text-align: right;\n",
       "    }\n",
       "</style>\n",
       "<table border=\"1\" class=\"dataframe\">\n",
       "  <thead>\n",
       "    <tr style=\"text-align: right;\">\n",
       "      <th></th>\n",
       "      <th>sepal length (cm)</th>\n",
       "      <th>sepal width (cm)</th>\n",
       "      <th>petal length (cm)</th>\n",
       "      <th>petal width (cm)</th>\n",
       "      <th>class</th>\n",
       "    </tr>\n",
       "  </thead>\n",
       "  <tbody>\n",
       "    <tr>\n",
       "      <th>74</th>\n",
       "      <td>6.4</td>\n",
       "      <td>2.9</td>\n",
       "      <td>4.3</td>\n",
       "      <td>1.3</td>\n",
       "      <td>versicolor</td>\n",
       "    </tr>\n",
       "    <tr>\n",
       "      <th>141</th>\n",
       "      <td>6.9</td>\n",
       "      <td>3.1</td>\n",
       "      <td>5.1</td>\n",
       "      <td>2.3</td>\n",
       "      <td>virginica</td>\n",
       "    </tr>\n",
       "    <tr>\n",
       "      <th>16</th>\n",
       "      <td>5.4</td>\n",
       "      <td>3.9</td>\n",
       "      <td>1.3</td>\n",
       "      <td>0.4</td>\n",
       "      <td>setosa</td>\n",
       "    </tr>\n",
       "    <tr>\n",
       "      <th>101</th>\n",
       "      <td>5.8</td>\n",
       "      <td>2.7</td>\n",
       "      <td>5.1</td>\n",
       "      <td>1.9</td>\n",
       "      <td>virginica</td>\n",
       "    </tr>\n",
       "    <tr>\n",
       "      <th>41</th>\n",
       "      <td>4.5</td>\n",
       "      <td>2.3</td>\n",
       "      <td>1.3</td>\n",
       "      <td>0.3</td>\n",
       "      <td>setosa</td>\n",
       "    </tr>\n",
       "    <tr>\n",
       "      <th>115</th>\n",
       "      <td>6.4</td>\n",
       "      <td>3.2</td>\n",
       "      <td>5.3</td>\n",
       "      <td>2.3</td>\n",
       "      <td>virginica</td>\n",
       "    </tr>\n",
       "    <tr>\n",
       "      <th>70</th>\n",
       "      <td>5.9</td>\n",
       "      <td>3.2</td>\n",
       "      <td>4.8</td>\n",
       "      <td>1.8</td>\n",
       "      <td>versicolor</td>\n",
       "    </tr>\n",
       "    <tr>\n",
       "      <th>129</th>\n",
       "      <td>7.2</td>\n",
       "      <td>3.0</td>\n",
       "      <td>5.8</td>\n",
       "      <td>1.6</td>\n",
       "      <td>virginica</td>\n",
       "    </tr>\n",
       "    <tr>\n",
       "      <th>57</th>\n",
       "      <td>4.9</td>\n",
       "      <td>2.4</td>\n",
       "      <td>3.3</td>\n",
       "      <td>1.0</td>\n",
       "      <td>versicolor</td>\n",
       "    </tr>\n",
       "    <tr>\n",
       "      <th>66</th>\n",
       "      <td>5.6</td>\n",
       "      <td>3.0</td>\n",
       "      <td>4.5</td>\n",
       "      <td>1.5</td>\n",
       "      <td>versicolor</td>\n",
       "    </tr>\n",
       "  </tbody>\n",
       "</table>\n",
       "</div>"
      ],
      "text/plain": [
       "     sepal length (cm)  sepal width (cm)  petal length (cm)  petal width (cm)  \\\n",
       "74                 6.4               2.9                4.3               1.3   \n",
       "141                6.9               3.1                5.1               2.3   \n",
       "16                 5.4               3.9                1.3               0.4   \n",
       "101                5.8               2.7                5.1               1.9   \n",
       "41                 4.5               2.3                1.3               0.3   \n",
       "115                6.4               3.2                5.3               2.3   \n",
       "70                 5.9               3.2                4.8               1.8   \n",
       "129                7.2               3.0                5.8               1.6   \n",
       "57                 4.9               2.4                3.3               1.0   \n",
       "66                 5.6               3.0                4.5               1.5   \n",
       "\n",
       "          class  \n",
       "74   versicolor  \n",
       "141   virginica  \n",
       "16       setosa  \n",
       "101   virginica  \n",
       "41       setosa  \n",
       "115   virginica  \n",
       "70   versicolor  \n",
       "129   virginica  \n",
       "57   versicolor  \n",
       "66   versicolor  "
      ]
     },
     "execution_count": 5,
     "metadata": {},
     "output_type": "execute_result"
    }
   ],
   "source": [
    "iris_combined_df = pd.concat((iris_input_df, iris_output_df), axis=1)\n",
    "iris_combined_df.sample(10)"
   ]
  },
  {
   "cell_type": "markdown",
   "metadata": {},
   "source": [
    "When working with sensAI, we typically use DataFrames such as this as the starting point.\n",
    "\n",
    "We create an instance of **InputOutputData** from the two data frames."
   ]
  },
  {
   "cell_type": "code",
   "execution_count": 6,
   "metadata": {
    "execution": {
     "iopub.execute_input": "2025-07-17T17:34:34.562085Z",
     "iopub.status.busy": "2025-07-17T17:34:34.561427Z",
     "iopub.status.idle": "2025-07-17T17:34:34.580950Z",
     "shell.execute_reply": "2025-07-17T17:34:34.580214Z"
    }
   },
   "outputs": [],
   "source": [
    "iris_io_data = sensai.InputOutputData(iris_input_df, iris_output_df)"
   ]
  },
  {
   "cell_type": "markdown",
   "metadata": {},
   "source": [
    "### Low-Level Training and Inference "
   ]
  },
  {
   "cell_type": "markdown",
   "metadata": {},
   "source": [
    "We use a **DataSplitter** (see subclasses) to split the data into a training and test set, specifically a **DataSplitterFractional**."
   ]
  },
  {
   "cell_type": "code",
   "execution_count": 7,
   "metadata": {
    "execution": {
     "iopub.execute_input": "2025-07-17T17:34:34.583477Z",
     "iopub.status.busy": "2025-07-17T17:34:34.583263Z",
     "iopub.status.idle": "2025-07-17T17:34:34.602443Z",
     "shell.execute_reply": "2025-07-17T17:34:34.601869Z"
    }
   },
   "outputs": [],
   "source": [
    "data_splitter = sensai.data.DataSplitterFractional(0.8, shuffle=True)\n",
    "training_io_data, test_io_data = data_splitter.split(iris_io_data)"
   ]
  },
  {
   "cell_type": "markdown",
   "metadata": {},
   "source": [
    "Now we are ready to train a model. Let us train a random forest classifier, which should work well for this sort of problem. sensAI provides models from various libraries, including scikit-learn, PyTorch, lightgbm, xgboost, catboost, and TensorFlow.\n",
    "\n",
    "In this case, let us use the random forest implementation from sklearn, which is provided via the wrapper class SkLearnRandomForestVectorClassificationModel.\n",
    "\n",
    "sensAI's **VectorModel** classes (specialised for classification and regression) provide a common interface with a lot of useful functionality, which we will see later."
   ]
  },
  {
   "cell_type": "code",
   "execution_count": 8,
   "metadata": {
    "execution": {
     "iopub.execute_input": "2025-07-17T17:34:34.604804Z",
     "iopub.status.busy": "2025-07-17T17:34:34.604599Z",
     "iopub.status.idle": "2025-07-17T17:34:34.622925Z",
     "shell.execute_reply": "2025-07-17T17:34:34.622384Z"
    }
   },
   "outputs": [],
   "source": [
    "random_forest_model = sensai.sklearn.classification.SkLearnRandomForestVectorClassificationModel(\n",
    "    min_samples_leaf=2).with_name(\"RandomForest\")"
   ]
  },
  {
   "cell_type": "markdown",
   "metadata": {},
   "source": [
    "The class suppports all the parameters supported by the original sklearn model. In this case, we only set the minimum number of samples that must end up in each leaf.\n",
    "\n",
    "We train the model using the `fitInputOutputData` method; we could also use the `fit` method, which is analogous to the sklearn interface and takes two arguments (input, output)."
   ]
  },
  {
   "cell_type": "code",
   "execution_count": 9,
   "metadata": {
    "execution": {
     "iopub.execute_input": "2025-07-17T17:34:34.625548Z",
     "iopub.status.busy": "2025-07-17T17:34:34.625106Z",
     "iopub.status.idle": "2025-07-17T17:34:34.752785Z",
     "shell.execute_reply": "2025-07-17T17:34:34.752071Z"
    }
   },
   "outputs": [
    {
     "name": "stdout",
     "output_type": "stream",
     "text": [
      "INFO  2025-07-17 17:34:34,642 sensai.vector_model:fit:359 - Fitting SkLearnRandomForestVectorClassificationModel instance\n"
     ]
    },
    {
     "name": "stdout",
     "output_type": "stream",
     "text": [
      "INFO  2025-07-17 17:34:34,643 sensai.sklearn.sklearn_base:_fit_classifier:314 - Fitting sklearn classifier of type RandomForestClassifier\n"
     ]
    },
    {
     "name": "stdout",
     "output_type": "stream",
     "text": [
      "INFO  2025-07-17 17:34:34,747 sensai.vector_model:fit:388 - Fitting completed in 0.10 seconds: SkLearnRandomForestVectorClassificationModel[featureGenerator=None, rawInputTransformerChain=DataFrameTransformerChain[dataFrameTransformers=[]], featureTransformerChain=DataFrameTransformerChain[dataFrameTransformers=[]], fitArgs={}, useBalancedClassWeights=False, useLabelEncoding=False, name='RandomForest', model='RandomForestClassifier(min_samples_leaf=2, random_state=42)']\n"
     ]
    },
    {
     "data": {
      "text/plain": [
       "SkLearnRandomForestVectorClassificationModel[id=140537426633792, featureGenerator=None, rawInputTransformerChain=DataFrameTransformerChain[dataFrameTransformers=[]], featureTransformerChain=DataFrameTransformerChain[dataFrameTransformers=[]], fitArgs={}, useBalancedClassWeights=False, useLabelEncoding=False, name='RandomForest', model='RandomForestClassifier(min_samples_leaf=2, random_state=42)']"
      ]
     },
     "execution_count": 9,
     "metadata": {},
     "output_type": "execute_result"
    }
   ],
   "source": [
    "random_forest_model.fit_input_output_data(training_io_data)\n",
    "random_forest_model"
   ]
  },
  {
   "cell_type": "markdown",
   "metadata": {},
   "source": [
    "We can now apply the trained model and predict the outputs for the test set we reserved."
   ]
  },
  {
   "cell_type": "code",
   "execution_count": 10,
   "metadata": {
    "execution": {
     "iopub.execute_input": "2025-07-17T17:34:34.755545Z",
     "iopub.status.busy": "2025-07-17T17:34:34.755040Z",
     "iopub.status.idle": "2025-07-17T17:34:34.783551Z",
     "shell.execute_reply": "2025-07-17T17:34:34.782803Z"
    }
   },
   "outputs": [
    {
     "data": {
      "text/html": [
       "<div>\n",
       "<style scoped>\n",
       "    .dataframe tbody tr th:only-of-type {\n",
       "        vertical-align: middle;\n",
       "    }\n",
       "\n",
       "    .dataframe tbody tr th {\n",
       "        vertical-align: top;\n",
       "    }\n",
       "\n",
       "    .dataframe thead th {\n",
       "        text-align: right;\n",
       "    }\n",
       "</style>\n",
       "<table border=\"1\" class=\"dataframe\">\n",
       "  <thead>\n",
       "    <tr style=\"text-align: right;\">\n",
       "      <th></th>\n",
       "      <th>class</th>\n",
       "    </tr>\n",
       "  </thead>\n",
       "  <tbody>\n",
       "    <tr>\n",
       "      <th>91</th>\n",
       "      <td>versicolor</td>\n",
       "    </tr>\n",
       "    <tr>\n",
       "      <th>41</th>\n",
       "      <td>setosa</td>\n",
       "    </tr>\n",
       "    <tr>\n",
       "      <th>58</th>\n",
       "      <td>versicolor</td>\n",
       "    </tr>\n",
       "    <tr>\n",
       "      <th>90</th>\n",
       "      <td>versicolor</td>\n",
       "    </tr>\n",
       "    <tr>\n",
       "      <th>48</th>\n",
       "      <td>setosa</td>\n",
       "    </tr>\n",
       "  </tbody>\n",
       "</table>\n",
       "</div>"
      ],
      "text/plain": [
       "         class\n",
       "91  versicolor\n",
       "41      setosa\n",
       "58  versicolor\n",
       "90  versicolor\n",
       "48      setosa"
      ]
     },
     "execution_count": 10,
     "metadata": {},
     "output_type": "execute_result"
    }
   ],
   "source": [
    "predicted_outputs_df = random_forest_model.predict(test_io_data.inputs)\n",
    "predicted_outputs_df.head(5)"
   ]
  },
  {
   "cell_type": "markdown",
   "metadata": {},
   "source": [
    "Let's compare some of the predictions to the ground truth."
   ]
  },
  {
   "cell_type": "code",
   "execution_count": 11,
   "metadata": {
    "execution": {
     "iopub.execute_input": "2025-07-17T17:34:34.786247Z",
     "iopub.status.busy": "2025-07-17T17:34:34.785830Z",
     "iopub.status.idle": "2025-07-17T17:34:34.809031Z",
     "shell.execute_reply": "2025-07-17T17:34:34.808425Z"
    }
   },
   "outputs": [
    {
     "data": {
      "text/html": [
       "<div>\n",
       "<style scoped>\n",
       "    .dataframe tbody tr th:only-of-type {\n",
       "        vertical-align: middle;\n",
       "    }\n",
       "\n",
       "    .dataframe tbody tr th {\n",
       "        vertical-align: top;\n",
       "    }\n",
       "\n",
       "    .dataframe thead th {\n",
       "        text-align: right;\n",
       "    }\n",
       "</style>\n",
       "<table border=\"1\" class=\"dataframe\">\n",
       "  <thead>\n",
       "    <tr style=\"text-align: right;\">\n",
       "      <th></th>\n",
       "      <th>predictedClass</th>\n",
       "      <th>class</th>\n",
       "    </tr>\n",
       "  </thead>\n",
       "  <tbody>\n",
       "    <tr>\n",
       "      <th>14</th>\n",
       "      <td>setosa</td>\n",
       "      <td>setosa</td>\n",
       "    </tr>\n",
       "    <tr>\n",
       "      <th>74</th>\n",
       "      <td>versicolor</td>\n",
       "      <td>versicolor</td>\n",
       "    </tr>\n",
       "    <tr>\n",
       "      <th>99</th>\n",
       "      <td>versicolor</td>\n",
       "      <td>versicolor</td>\n",
       "    </tr>\n",
       "    <tr>\n",
       "      <th>57</th>\n",
       "      <td>versicolor</td>\n",
       "      <td>versicolor</td>\n",
       "    </tr>\n",
       "    <tr>\n",
       "      <th>149</th>\n",
       "      <td>virginica</td>\n",
       "      <td>virginica</td>\n",
       "    </tr>\n",
       "    <tr>\n",
       "      <th>1</th>\n",
       "      <td>setosa</td>\n",
       "      <td>setosa</td>\n",
       "    </tr>\n",
       "    <tr>\n",
       "      <th>107</th>\n",
       "      <td>virginica</td>\n",
       "      <td>virginica</td>\n",
       "    </tr>\n",
       "    <tr>\n",
       "      <th>116</th>\n",
       "      <td>virginica</td>\n",
       "      <td>virginica</td>\n",
       "    </tr>\n",
       "    <tr>\n",
       "      <th>88</th>\n",
       "      <td>versicolor</td>\n",
       "      <td>versicolor</td>\n",
       "    </tr>\n",
       "    <tr>\n",
       "      <th>102</th>\n",
       "      <td>virginica</td>\n",
       "      <td>virginica</td>\n",
       "    </tr>\n",
       "  </tbody>\n",
       "</table>\n",
       "</div>"
      ],
      "text/plain": [
       "    predictedClass       class\n",
       "14          setosa      setosa\n",
       "74      versicolor  versicolor\n",
       "99      versicolor  versicolor\n",
       "57      versicolor  versicolor\n",
       "149      virginica   virginica\n",
       "1           setosa      setosa\n",
       "107      virginica   virginica\n",
       "116      virginica   virginica\n",
       "88      versicolor  versicolor\n",
       "102      virginica   virginica"
      ]
     },
     "execution_count": 11,
     "metadata": {},
     "output_type": "execute_result"
    }
   ],
   "source": [
    "pd.concat((predicted_outputs_df.rename(columns={\"class\": \"predictedClass\"}), test_io_data.outputs), axis=1).sample(10)"
   ]
  },
  {
   "cell_type": "markdown",
   "metadata": {},
   "source": [
    "Using the ground truth and predicted values, we could now compute the metrics we're interested in. We could, for example, use the metrics implemented in sklearn to analyse the result. Yet sensAI already provides abstractions that facilitate the generation of metrics and the collection of results. Read on!"
   ]
  },
  {
   "cell_type": "markdown",
   "metadata": {},
   "source": [
    "### Using Evaluators\n",
    "\n",
    "sensAI provides evaluator abstractions which facilitate the training and evaluation of models.\n",
    "\n",
    "For a classification problem, we instantiate a VectorClassificationModelEvaluator. An evaluator serves to evaluate one or more models based on the same data, so we construct it with the data and instructions on how to handle/split the data for evaluation."
   ]
  },
  {
   "cell_type": "code",
   "execution_count": 12,
   "metadata": {
    "execution": {
     "iopub.execute_input": "2025-07-17T17:34:34.811656Z",
     "iopub.status.busy": "2025-07-17T17:34:34.811461Z",
     "iopub.status.idle": "2025-07-17T17:34:34.831265Z",
     "shell.execute_reply": "2025-07-17T17:34:34.830698Z"
    }
   },
   "outputs": [],
   "source": [
    "evaluator_params = sensai.evaluation.ClassificationEvaluatorParams(data_splitter=data_splitter, compute_probabilities=True)\n",
    "evaluator = sensai.evaluation.VectorClassificationModelEvaluator(iris_io_data, params=evaluator_params)"
   ]
  },
  {
   "cell_type": "markdown",
   "metadata": {},
   "source": [
    "We can use this evaluator to evaluate one or more models. Let us evaluate the random forest model from above."
   ]
  },
  {
   "cell_type": "code",
   "execution_count": 13,
   "metadata": {
    "execution": {
     "iopub.execute_input": "2025-07-17T17:34:34.834152Z",
     "iopub.status.busy": "2025-07-17T17:34:34.833651Z",
     "iopub.status.idle": "2025-07-17T17:34:34.970021Z",
     "shell.execute_reply": "2025-07-17T17:34:34.969458Z"
    }
   },
   "outputs": [
    {
     "name": "stdout",
     "output_type": "stream",
     "text": [
      "INFO  2025-07-17 17:34:34,851 sensai.vector_model:fit:359 - Fitting SkLearnRandomForestVectorClassificationModel instance\n"
     ]
    },
    {
     "name": "stdout",
     "output_type": "stream",
     "text": [
      "INFO  2025-07-17 17:34:34,853 sensai.sklearn.sklearn_base:_fit_classifier:314 - Fitting sklearn classifier of type RandomForestClassifier\n"
     ]
    },
    {
     "name": "stdout",
     "output_type": "stream",
     "text": [
      "INFO  2025-07-17 17:34:34,956 sensai.vector_model:fit:388 - Fitting completed in 0.10 seconds: SkLearnRandomForestVectorClassificationModel[featureGenerator=None, rawInputTransformerChain=DataFrameTransformerChain[dataFrameTransformers=[]], featureTransformerChain=DataFrameTransformerChain[dataFrameTransformers=[]], fitArgs={}, useBalancedClassWeights=False, useLabelEncoding=False, name='RandomForest', model='RandomForestClassifier(min_samples_leaf=2, random_state=42)']\n"
     ]
    }
   ],
   "source": [
    "evaluator.fit_model(random_forest_model)\n",
    "eval_data = evaluator.eval_model(random_forest_model)"
   ]
  },
  {
   "cell_type": "markdown",
   "metadata": {},
   "source": [
    "The evaluation data holds, in particular, an **EvalStats** object, which can provide data on the quality of the results.\n",
    "Depending on the type of problem, many metrics will already be computed by default."
   ]
  },
  {
   "cell_type": "code",
   "execution_count": 14,
   "metadata": {
    "execution": {
     "iopub.execute_input": "2025-07-17T17:34:34.972797Z",
     "iopub.status.busy": "2025-07-17T17:34:34.972388Z",
     "iopub.status.idle": "2025-07-17T17:34:34.994188Z",
     "shell.execute_reply": "2025-07-17T17:34:34.993621Z"
    }
   },
   "outputs": [
    {
     "data": {
      "text/plain": [
       "ClassificationEvalStats[id=140537426427184, accuracy=0.9666666666666667, balancedAccuracy=0.9722222222222222, geoMeanTrueClassProb=0.8890980234758366, N=30]"
      ]
     },
     "execution_count": 14,
     "metadata": {},
     "output_type": "execute_result"
    }
   ],
   "source": [
    "eval_stats = eval_data.get_eval_stats()\n",
    "eval_stats"
   ]
  },
  {
   "cell_type": "markdown",
   "metadata": {},
   "source": [
    "We can get the metrics in a dictionary as follows:"
   ]
  },
  {
   "cell_type": "code",
   "execution_count": 15,
   "metadata": {
    "execution": {
     "iopub.execute_input": "2025-07-17T17:34:34.996824Z",
     "iopub.status.busy": "2025-07-17T17:34:34.996420Z",
     "iopub.status.idle": "2025-07-17T17:34:35.018201Z",
     "shell.execute_reply": "2025-07-17T17:34:35.017659Z"
    }
   },
   "outputs": [
    {
     "data": {
      "text/plain": [
       "{'accuracy': 0.9666666666666667,\n",
       " 'balancedAccuracy': 0.9722222222222222,\n",
       " 'geoMeanTrueClassProb': np.float64(0.8890980234758366)}"
      ]
     },
     "execution_count": 15,
     "metadata": {},
     "output_type": "execute_result"
    }
   ],
   "source": [
    "eval_stats.metrics_dict()"
   ]
  },
  {
   "cell_type": "markdown",
   "metadata": {},
   "source": [
    "We can compute additional metrics by passing a metric to the `compute_metric_value` method, but we could also have added additional metrics to the `evaluator_params` above and have the metric included in all results.\n",
    "\n",
    "Let's see how frequently the true class is among the top two most probable classes."
   ]
  },
  {
   "cell_type": "code",
   "execution_count": 16,
   "metadata": {
    "execution": {
     "iopub.execute_input": "2025-07-17T17:34:35.020824Z",
     "iopub.status.busy": "2025-07-17T17:34:35.020405Z",
     "iopub.status.idle": "2025-07-17T17:34:35.040870Z",
     "shell.execute_reply": "2025-07-17T17:34:35.040140Z"
    }
   },
   "outputs": [
    {
     "data": {
      "text/plain": [
       "1.0"
      ]
     },
     "execution_count": 16,
     "metadata": {},
     "output_type": "execute_result"
    }
   ],
   "source": [
    "eval_stats.compute_metric_value(sensai.eval_stats_classification.ClassificationMetricTopNAccuracy(2))"
   ]
  },
  {
   "cell_type": "markdown",
   "metadata": {},
   "source": [
    "The EvalStats object can also be used to generate plots, such as a confusion matrix or a precision-recall plot for binary classification."
   ]
  },
  {
   "cell_type": "code",
   "execution_count": 17,
   "metadata": {
    "execution": {
     "iopub.execute_input": "2025-07-17T17:34:35.043433Z",
     "iopub.status.busy": "2025-07-17T17:34:35.043211Z",
     "iopub.status.idle": "2025-07-17T17:34:35.314350Z",
     "shell.execute_reply": "2025-07-17T17:34:35.313617Z"
    }
   },
   "outputs": [
    {
     "data": {
      "image/png": "[encoded data removed]",
      "text/plain": [
       "<Figure size 900x900 with 2 Axes>"
      ]
     },
     "metadata": {},
     "output_type": "display_data"
    }
   ],
   "source": [
    "eval_stats.plot_confusion_matrix(normalize=True);"
   ]
  },
  {
   "cell_type": "markdown",
   "metadata": {},
   "source": [
    "### Using the Fully-Integrated Evaluation Utilities\n",
    "\n",
    "sensAI's evaluation utilities take things one step further and assist you in out all the evaluation steps and results computations in a single call.\n",
    "\n",
    "You can perform evaluations based on a single split or cross-validation. We simply declare the necessary parameters for both types of computations (or the one type we seek to carry out)."
   ]
  },
  {
   "cell_type": "code",
   "execution_count": 18,
   "metadata": {
    "execution": {
     "iopub.execute_input": "2025-07-17T17:34:35.317258Z",
     "iopub.status.busy": "2025-07-17T17:34:35.316891Z",
     "iopub.status.idle": "2025-07-17T17:34:35.337639Z",
     "shell.execute_reply": "2025-07-17T17:34:35.337048Z"
    }
   },
   "outputs": [],
   "source": [
    "evaluatorParams = sensai.evaluation.ClassificationEvaluatorParams(\n",
    "    data_splitter=data_splitter, compute_probabilities=True,\n",
    "    additional_metrics=[sensai.eval_stats_classification.ClassificationMetricTopNAccuracy(2)])\n",
    "cross_validator_params = sensai.evaluation.crossval.VectorModelCrossValidatorParams(folds=10,\n",
    "    evaluator_params=evaluator_params)\n",
    "eval_util = sensai.evaluation.ClassificationModelEvaluation(iris_io_data,\n",
    "    evaluator_params=evaluatorParams, cross_validator_params=cross_validator_params)"
   ]
  },
  {
   "cell_type": "markdown",
   "metadata": {},
   "source": [
    "In practice, we will usually want to save evaluation results. The evaluation methods of `eval_util` take a parameter `result_writer` which allows us to define where results shall be written. Within this notebook, we shall simply inspect the resulting metrics in the log that is printed, and we shall configure plots to be shown directly.\n",
    "\n",
    "#### Simple Evaluation"
   ]
  },
  {
   "cell_type": "markdown",
   "metadata": {},
   "source": [
    "We can perform the same evaluation as above (which uses a single split) like so:"
   ]
  },
  {
   "cell_type": "code",
   "execution_count": 19,
   "metadata": {
    "execution": {
     "iopub.execute_input": "2025-07-17T17:34:35.340558Z",
     "iopub.status.busy": "2025-07-17T17:34:35.340107Z",
     "iopub.status.idle": "2025-07-17T17:34:35.898097Z",
     "shell.execute_reply": "2025-07-17T17:34:35.897347Z"
    }
   },
   "outputs": [
    {
     "name": "stdout",
     "output_type": "stream",
     "text": [
      "INFO  2025-07-17 17:34:35,358 sensai.evaluation.eval_util:perform_simple_evaluation:288 - Evaluating SkLearnRandomForestVectorClassificationModel[featureGenerator=None, rawInputTransformerChain=DataFrameTransformerChain[dataFrameTransformers=[]], featureTransformerChain=DataFrameTransformerChain[dataFrameTransformers=[]], fitArgs={}, useBalancedClassWeights=False, useLabelEncoding=False, name='RandomForest', model='RandomForestClassifier(min_samples_leaf=2, random_state=42)'] via <sensai.evaluation.evaluator.VectorClassificationModelEvaluator object at 0x7fd16b613e50>\n"
     ]
    },
    {
     "name": "stdout",
     "output_type": "stream",
     "text": [
      "INFO  2025-07-17 17:34:35,359 sensai.vector_model:fit:359 - Fitting SkLearnRandomForestVectorClassificationModel instance\n"
     ]
    },
    {
     "name": "stdout",
     "output_type": "stream",
     "text": [
      "INFO  2025-07-17 17:34:35,361 sensai.sklearn.sklearn_base:_fit_classifier:314 - Fitting sklearn classifier of type RandomForestClassifier\n"
     ]
    },
    {
     "name": "stdout",
     "output_type": "stream",
     "text": [
      "INFO  2025-07-17 17:34:35,464 sensai.vector_model:fit:388 - Fitting completed in 0.10 seconds: SkLearnRandomForestVectorClassificationModel[featureGenerator=None, rawInputTransformerChain=DataFrameTransformerChain[dataFrameTransformers=[]], featureTransformerChain=DataFrameTransformerChain[dataFrameTransformers=[]], fitArgs={}, useBalancedClassWeights=False, useLabelEncoding=False, name='RandomForest', model='RandomForestClassifier(min_samples_leaf=2, random_state=42)']\n"
     ]
    },
    {
     "name": "stdout",
     "output_type": "stream",
     "text": [
      "INFO  2025-07-17 17:34:35,480 sensai.evaluation.eval_util:gather_results:296 - Evaluation results for class: ClassificationEvalStats[accuracy=0.9666666666666667, balancedAccuracy=0.9722222222222222, geoMeanTrueClassProb=0.8890980234758366, top2Accuracy=1.0, N=30]\n"
     ]
    },
    {
     "data": {
      "text/plain": [
       "<sensai.evaluation.evaluator.VectorClassificationModelEvaluationData at 0x7fd16b40e8f0>"
      ]
     },
     "execution_count": 19,
     "metadata": {},
     "output_type": "execute_result"
    },
    {
     "data": {
      "image/png": "[encoded data removed]",
      "text/plain": [
       "<Figure size 900x900 with 2 Axes>"
      ]
     },
     "metadata": {},
     "output_type": "display_data"
    },
    {
     "data": {
      "image/png": "[encoded data removed]",
      "text/plain": [
       "<Figure size 900x900 with 2 Axes>"
      ]
     },
     "metadata": {},
     "output_type": "display_data"
    }
   ],
   "source": [
    "eval_util.perform_simple_evaluation(random_forest_model, show_plots=True)"
   ]
  },
  {
   "cell_type": "markdown",
   "metadata": {},
   "source": [
    "#### Customising the Set of Plots"
   ]
  },
  {
   "cell_type": "markdown",
   "metadata": {},
   "source": [
    "If we decide that we don't really want to have the normalised confusion matrix, we can disable it for any further experiments."
   ]
  },
  {
   "cell_type": "code",
   "execution_count": 20,
   "metadata": {
    "execution": {
     "iopub.execute_input": "2025-07-17T17:34:35.900771Z",
     "iopub.status.busy": "2025-07-17T17:34:35.900537Z",
     "iopub.status.idle": "2025-07-17T17:34:35.921547Z",
     "shell.execute_reply": "2025-07-17T17:34:35.920841Z"
    }
   },
   "outputs": [
    {
     "data": {
      "text/plain": [
       "['confusion-matrix-rel',\n",
       " 'confusion-matrix-abs',\n",
       " 'precision-recall',\n",
       " 'threshold-precision-recall',\n",
       " 'threshold-counts']"
      ]
     },
     "execution_count": 20,
     "metadata": {},
     "output_type": "execute_result"
    }
   ],
   "source": [
    "eval_util.eval_stats_plot_collector.get_enabled_plots()"
   ]
  },
  {
   "cell_type": "markdown",
   "metadata": {},
   "source": [
    "Some of these are only active for binary classification. The one we don't want is \"confusion-matrix-rel\"."
   ]
  },
  {
   "cell_type": "code",
   "execution_count": 21,
   "metadata": {
    "execution": {
     "iopub.execute_input": "2025-07-17T17:34:35.924234Z",
     "iopub.status.busy": "2025-07-17T17:34:35.923758Z",
     "iopub.status.idle": "2025-07-17T17:34:35.942113Z",
     "shell.execute_reply": "2025-07-17T17:34:35.941435Z"
    }
   },
   "outputs": [],
   "source": [
    "eval_util.eval_stats_plot_collector.disable_plots(\"confusion-matrix-rel\")"
   ]
  },
  {
   "cell_type": "markdown",
   "metadata": {},
   "source": [
    "We could also define our own plot class (by creating a new subclass of `ClassificationEvalStatsPlot`) and add it to the plot collector in order to have the plot auto-generated whenever we apply one of `eval_util`'s methods."
   ]
  },
  {
   "cell_type": "markdown",
   "metadata": {},
   "source": [
    "#### Cross-Validation"
   ]
  },
  {
   "cell_type": "markdown",
   "metadata": {},
   "source": [
    "We can similarly run cross-validation and produce the respective evaluation metrics with a single call."
   ]
  },
  {
   "cell_type": "code",
   "execution_count": 22,
   "metadata": {
    "execution": {
     "iopub.execute_input": "2025-07-17T17:34:35.945133Z",
     "iopub.status.busy": "2025-07-17T17:34:35.944755Z",
     "iopub.status.idle": "2025-07-17T17:34:37.453729Z",
     "shell.execute_reply": "2025-07-17T17:34:37.453011Z"
    }
   },
   "outputs": [
    {
     "name": "stdout",
     "output_type": "stream",
     "text": [
      "INFO  2025-07-17 17:34:35,964 sensai.evaluation.crossval:eval_model:192 - Training and evaluating model with fold 1/10 ...\n"
     ]
    },
    {
     "name": "stdout",
     "output_type": "stream",
     "text": [
      "INFO  2025-07-17 17:34:35,964 sensai.vector_model:fit:359 - Fitting SkLearnRandomForestVectorClassificationModel instance\n"
     ]
    },
    {
     "name": "stdout",
     "output_type": "stream",
     "text": [
      "INFO  2025-07-17 17:34:35,966 sensai.sklearn.sklearn_base:_fit_classifier:314 - Fitting sklearn classifier of type RandomForestClassifier\n"
     ]
    },
    {
     "name": "stdout",
     "output_type": "stream",
     "text": [
      "INFO  2025-07-17 17:34:36,070 sensai.vector_model:fit:388 - Fitting completed in 0.10 seconds: SkLearnRandomForestVectorClassificationModel[featureGenerator=None, rawInputTransformerChain=DataFrameTransformerChain[dataFrameTransformers=[]], featureTransformerChain=DataFrameTransformerChain[dataFrameTransformers=[]], fitArgs={}, useBalancedClassWeights=False, useLabelEncoding=False, name='RandomForest', model='RandomForestClassifier(min_samples_leaf=2, random_state=42)']\n"
     ]
    },
    {
     "name": "stdout",
     "output_type": "stream",
     "text": [
      "INFO  2025-07-17 17:34:36,084 sensai.evaluation.crossval:eval_model:201 - Evaluation result for class, fold 1/10: ClassificationEvalStats[accuracy=1.0, balancedAccuracy=1.0, geoMeanTrueClassProb=0.9553599022560102, N=15]\n"
     ]
    },
    {
     "name": "stdout",
     "output_type": "stream",
     "text": [
      "INFO  2025-07-17 17:34:36,085 sensai.evaluation.crossval:eval_model:192 - Training and evaluating model with fold 2/10 ...\n"
     ]
    },
    {
     "name": "stdout",
     "output_type": "stream",
     "text": [
      "INFO  2025-07-17 17:34:36,086 sensai.vector_model:fit:359 - Fitting SkLearnRandomForestVectorClassificationModel instance\n"
     ]
    },
    {
     "name": "stdout",
     "output_type": "stream",
     "text": [
      "INFO  2025-07-17 17:34:36,087 sensai.sklearn.sklearn_base:_fit_classifier:314 - Fitting sklearn classifier of type RandomForestClassifier\n"
     ]
    },
    {
     "name": "stdout",
     "output_type": "stream",
     "text": [
      "INFO  2025-07-17 17:34:36,192 sensai.vector_model:fit:388 - Fitting completed in 0.11 seconds: SkLearnRandomForestVectorClassificationModel[featureGenerator=None, rawInputTransformerChain=DataFrameTransformerChain[dataFrameTransformers=[]], featureTransformerChain=DataFrameTransformerChain[dataFrameTransformers=[]], fitArgs={}, useBalancedClassWeights=False, useLabelEncoding=False, name='RandomForest', model='RandomForestClassifier(min_samples_leaf=2, random_state=42)']\n"
     ]
    },
    {
     "name": "stdout",
     "output_type": "stream",
     "text": [
      "INFO  2025-07-17 17:34:36,206 sensai.evaluation.crossval:eval_model:201 - Evaluation result for class, fold 2/10: ClassificationEvalStats[accuracy=1.0, balancedAccuracy=1.0, geoMeanTrueClassProb=0.9734228107223192, N=15]\n"
     ]
    },
    {
     "name": "stdout",
     "output_type": "stream",
     "text": [
      "INFO  2025-07-17 17:34:36,206 sensai.evaluation.crossval:eval_model:192 - Training and evaluating model with fold 3/10 ...\n"
     ]
    },
    {
     "name": "stdout",
     "output_type": "stream",
     "text": [
      "INFO  2025-07-17 17:34:36,207 sensai.vector_model:fit:359 - Fitting SkLearnRandomForestVectorClassificationModel instance\n"
     ]
    },
    {
     "name": "stdout",
     "output_type": "stream",
     "text": [
      "INFO  2025-07-17 17:34:36,208 sensai.sklearn.sklearn_base:_fit_classifier:314 - Fitting sklearn classifier of type RandomForestClassifier\n"
     ]
    },
    {
     "name": "stdout",
     "output_type": "stream",
     "text": [
      "INFO  2025-07-17 17:34:36,312 sensai.vector_model:fit:388 - Fitting completed in 0.10 seconds: SkLearnRandomForestVectorClassificationModel[featureGenerator=None, rawInputTransformerChain=DataFrameTransformerChain[dataFrameTransformers=[]], featureTransformerChain=DataFrameTransformerChain[dataFrameTransformers=[]], fitArgs={}, useBalancedClassWeights=False, useLabelEncoding=False, name='RandomForest', model='RandomForestClassifier(min_samples_leaf=2, random_state=42)']\n"
     ]
    },
    {
     "name": "stdout",
     "output_type": "stream",
     "text": [
      "INFO  2025-07-17 17:34:36,326 sensai.evaluation.crossval:eval_model:201 - Evaluation result for class, fold 3/10: ClassificationEvalStats[accuracy=1.0, balancedAccuracy=1.0, geoMeanTrueClassProb=0.976458969438705, N=15]\n"
     ]
    },
    {
     "name": "stdout",
     "output_type": "stream",
     "text": [
      "INFO  2025-07-17 17:34:36,327 sensai.evaluation.crossval:eval_model:192 - Training and evaluating model with fold 4/10 ...\n"
     ]
    },
    {
     "name": "stdout",
     "output_type": "stream",
     "text": [
      "INFO  2025-07-17 17:34:36,328 sensai.vector_model:fit:359 - Fitting SkLearnRandomForestVectorClassificationModel instance\n"
     ]
    },
    {
     "name": "stdout",
     "output_type": "stream",
     "text": [
      "INFO  2025-07-17 17:34:36,330 sensai.sklearn.sklearn_base:_fit_classifier:314 - Fitting sklearn classifier of type RandomForestClassifier\n"
     ]
    },
    {
     "name": "stdout",
     "output_type": "stream",
     "text": [
      "INFO  2025-07-17 17:34:36,432 sensai.vector_model:fit:388 - Fitting completed in 0.10 seconds: SkLearnRandomForestVectorClassificationModel[featureGenerator=None, rawInputTransformerChain=DataFrameTransformerChain[dataFrameTransformers=[]], featureTransformerChain=DataFrameTransformerChain[dataFrameTransformers=[]], fitArgs={}, useBalancedClassWeights=False, useLabelEncoding=False, name='RandomForest', model='RandomForestClassifier(min_samples_leaf=2, random_state=42)']\n"
     ]
    },
    {
     "name": "stdout",
     "output_type": "stream",
     "text": [
      "INFO  2025-07-17 17:34:36,444 sensai.evaluation.crossval:eval_model:201 - Evaluation result for class, fold 4/10: ClassificationEvalStats[accuracy=0.9333333333333333, balancedAccuracy=0.9333333333333332, geoMeanTrueClassProb=0.9411926691126593, N=15]\n"
     ]
    },
    {
     "name": "stdout",
     "output_type": "stream",
     "text": [
      "INFO  2025-07-17 17:34:36,444 sensai.evaluation.crossval:eval_model:192 - Training and evaluating model with fold 5/10 ...\n"
     ]
    },
    {
     "name": "stdout",
     "output_type": "stream",
     "text": [
      "INFO  2025-07-17 17:34:36,445 sensai.vector_model:fit:359 - Fitting SkLearnRandomForestVectorClassificationModel instance\n"
     ]
    },
    {
     "name": "stdout",
     "output_type": "stream",
     "text": [
      "INFO  2025-07-17 17:34:36,446 sensai.sklearn.sklearn_base:_fit_classifier:314 - Fitting sklearn classifier of type RandomForestClassifier\n"
     ]
    },
    {
     "name": "stdout",
     "output_type": "stream",
     "text": [
      "INFO  2025-07-17 17:34:36,549 sensai.vector_model:fit:388 - Fitting completed in 0.10 seconds: SkLearnRandomForestVectorClassificationModel[featureGenerator=None, rawInputTransformerChain=DataFrameTransformerChain[dataFrameTransformers=[]], featureTransformerChain=DataFrameTransformerChain[dataFrameTransformers=[]], fitArgs={}, useBalancedClassWeights=False, useLabelEncoding=False, name='RandomForest', model='RandomForestClassifier(min_samples_leaf=2, random_state=42)']\n"
     ]
    },
    {
     "name": "stdout",
     "output_type": "stream",
     "text": [
      "INFO  2025-07-17 17:34:36,561 sensai.evaluation.crossval:eval_model:201 - Evaluation result for class, fold 5/10: ClassificationEvalStats[accuracy=1.0, balancedAccuracy=1.0, geoMeanTrueClassProb=0.9298964965102043, N=15]\n"
     ]
    },
    {
     "name": "stdout",
     "output_type": "stream",
     "text": [
      "INFO  2025-07-17 17:34:36,562 sensai.evaluation.crossval:eval_model:192 - Training and evaluating model with fold 6/10 ...\n"
     ]
    },
    {
     "name": "stdout",
     "output_type": "stream",
     "text": [
      "INFO  2025-07-17 17:34:36,562 sensai.vector_model:fit:359 - Fitting SkLearnRandomForestVectorClassificationModel instance\n"
     ]
    },
    {
     "name": "stdout",
     "output_type": "stream",
     "text": [
      "INFO  2025-07-17 17:34:36,563 sensai.sklearn.sklearn_base:_fit_classifier:314 - Fitting sklearn classifier of type RandomForestClassifier\n"
     ]
    },
    {
     "name": "stdout",
     "output_type": "stream",
     "text": [
      "INFO  2025-07-17 17:34:36,666 sensai.vector_model:fit:388 - Fitting completed in 0.10 seconds: SkLearnRandomForestVectorClassificationModel[featureGenerator=None, rawInputTransformerChain=DataFrameTransformerChain[dataFrameTransformers=[]], featureTransformerChain=DataFrameTransformerChain[dataFrameTransformers=[]], fitArgs={}, useBalancedClassWeights=False, useLabelEncoding=False, name='RandomForest', model='RandomForestClassifier(min_samples_leaf=2, random_state=42)']\n"
     ]
    },
    {
     "name": "stdout",
     "output_type": "stream",
     "text": [
      "INFO  2025-07-17 17:34:36,677 sensai.evaluation.crossval:eval_model:201 - Evaluation result for class, fold 6/10: ClassificationEvalStats[accuracy=0.8666666666666667, balancedAccuracy=0.8888888888888888, geoMeanTrueClassProb=0.6379522029160006, N=15]\n"
     ]
    },
    {
     "name": "stdout",
     "output_type": "stream",
     "text": [
      "INFO  2025-07-17 17:34:36,678 sensai.evaluation.crossval:eval_model:192 - Training and evaluating model with fold 7/10 ...\n"
     ]
    },
    {
     "name": "stdout",
     "output_type": "stream",
     "text": [
      "INFO  2025-07-17 17:34:36,678 sensai.vector_model:fit:359 - Fitting SkLearnRandomForestVectorClassificationModel instance\n"
     ]
    },
    {
     "name": "stdout",
     "output_type": "stream",
     "text": [
      "INFO  2025-07-17 17:34:36,680 sensai.sklearn.sklearn_base:_fit_classifier:314 - Fitting sklearn classifier of type RandomForestClassifier\n"
     ]
    },
    {
     "name": "stdout",
     "output_type": "stream",
     "text": [
      "INFO  2025-07-17 17:34:36,782 sensai.vector_model:fit:388 - Fitting completed in 0.10 seconds: SkLearnRandomForestVectorClassificationModel[featureGenerator=None, rawInputTransformerChain=DataFrameTransformerChain[dataFrameTransformers=[]], featureTransformerChain=DataFrameTransformerChain[dataFrameTransformers=[]], fitArgs={}, useBalancedClassWeights=False, useLabelEncoding=False, name='RandomForest', model='RandomForestClassifier(min_samples_leaf=2, random_state=42)']\n"
     ]
    },
    {
     "name": "stdout",
     "output_type": "stream",
     "text": [
      "INFO  2025-07-17 17:34:36,794 sensai.evaluation.crossval:eval_model:201 - Evaluation result for class, fold 7/10: ClassificationEvalStats[accuracy=0.8666666666666667, balancedAccuracy=0.8611111111111112, geoMeanTrueClassProb=0.8099785263057822, N=15]\n"
     ]
    },
    {
     "name": "stdout",
     "output_type": "stream",
     "text": [
      "INFO  2025-07-17 17:34:36,794 sensai.evaluation.crossval:eval_model:192 - Training and evaluating model with fold 8/10 ...\n"
     ]
    },
    {
     "name": "stdout",
     "output_type": "stream",
     "text": [
      "INFO  2025-07-17 17:34:36,795 sensai.vector_model:fit:359 - Fitting SkLearnRandomForestVectorClassificationModel instance\n"
     ]
    },
    {
     "name": "stdout",
     "output_type": "stream",
     "text": [
      "INFO  2025-07-17 17:34:36,796 sensai.sklearn.sklearn_base:_fit_classifier:314 - Fitting sklearn classifier of type RandomForestClassifier\n"
     ]
    },
    {
     "name": "stdout",
     "output_type": "stream",
     "text": [
      "INFO  2025-07-17 17:34:36,898 sensai.vector_model:fit:388 - Fitting completed in 0.10 seconds: SkLearnRandomForestVectorClassificationModel[featureGenerator=None, rawInputTransformerChain=DataFrameTransformerChain[dataFrameTransformers=[]], featureTransformerChain=DataFrameTransformerChain[dataFrameTransformers=[]], fitArgs={}, useBalancedClassWeights=False, useLabelEncoding=False, name='RandomForest', model='RandomForestClassifier(min_samples_leaf=2, random_state=42)']\n"
     ]
    },
    {
     "name": "stdout",
     "output_type": "stream",
     "text": [
      "INFO  2025-07-17 17:34:36,910 sensai.evaluation.crossval:eval_model:201 - Evaluation result for class, fold 8/10: ClassificationEvalStats[accuracy=1.0, balancedAccuracy=1.0, geoMeanTrueClassProb=0.9657414983648998, N=15]\n"
     ]
    },
    {
     "name": "stdout",
     "output_type": "stream",
     "text": [
      "INFO  2025-07-17 17:34:36,910 sensai.evaluation.crossval:eval_model:192 - Training and evaluating model with fold 9/10 ...\n"
     ]
    },
    {
     "name": "stdout",
     "output_type": "stream",
     "text": [
      "INFO  2025-07-17 17:34:36,911 sensai.vector_model:fit:359 - Fitting SkLearnRandomForestVectorClassificationModel instance\n"
     ]
    },
    {
     "name": "stdout",
     "output_type": "stream",
     "text": [
      "INFO  2025-07-17 17:34:36,912 sensai.sklearn.sklearn_base:_fit_classifier:314 - Fitting sklearn classifier of type RandomForestClassifier\n"
     ]
    },
    {
     "name": "stdout",
     "output_type": "stream",
     "text": [
      "INFO  2025-07-17 17:34:37,015 sensai.vector_model:fit:388 - Fitting completed in 0.10 seconds: SkLearnRandomForestVectorClassificationModel[featureGenerator=None, rawInputTransformerChain=DataFrameTransformerChain[dataFrameTransformers=[]], featureTransformerChain=DataFrameTransformerChain[dataFrameTransformers=[]], fitArgs={}, useBalancedClassWeights=False, useLabelEncoding=False, name='RandomForest', model='RandomForestClassifier(min_samples_leaf=2, random_state=42)']\n"
     ]
    },
    {
     "name": "stdout",
     "output_type": "stream",
     "text": [
      "INFO  2025-07-17 17:34:37,029 sensai.evaluation.crossval:eval_model:201 - Evaluation result for class, fold 9/10: ClassificationEvalStats[accuracy=1.0, balancedAccuracy=1.0, geoMeanTrueClassProb=0.9560552426688266, N=15]\n"
     ]
    },
    {
     "name": "stdout",
     "output_type": "stream",
     "text": [
      "INFO  2025-07-17 17:34:37,029 sensai.evaluation.crossval:eval_model:192 - Training and evaluating model with fold 10/10 ...\n"
     ]
    },
    {
     "name": "stdout",
     "output_type": "stream",
     "text": [
      "INFO  2025-07-17 17:34:37,030 sensai.vector_model:fit:359 - Fitting SkLearnRandomForestVectorClassificationModel instance\n"
     ]
    },
    {
     "name": "stdout",
     "output_type": "stream",
     "text": [
      "INFO  2025-07-17 17:34:37,031 sensai.sklearn.sklearn_base:_fit_classifier:314 - Fitting sklearn classifier of type RandomForestClassifier\n"
     ]
    },
    {
     "name": "stdout",
     "output_type": "stream",
     "text": [
      "INFO  2025-07-17 17:34:37,133 sensai.vector_model:fit:388 - Fitting completed in 0.10 seconds: SkLearnRandomForestVectorClassificationModel[featureGenerator=None, rawInputTransformerChain=DataFrameTransformerChain[dataFrameTransformers=[]], featureTransformerChain=DataFrameTransformerChain[dataFrameTransformers=[]], fitArgs={}, useBalancedClassWeights=False, useLabelEncoding=False, name='RandomForest', model='RandomForestClassifier(min_samples_leaf=2, random_state=42)']\n"
     ]
    },
    {
     "name": "stdout",
     "output_type": "stream",
     "text": [
      "INFO  2025-07-17 17:34:37,145 sensai.evaluation.crossval:eval_model:201 - Evaluation result for class, fold 10/10: ClassificationEvalStats[accuracy=0.9333333333333333, balancedAccuracy=0.9523809523809524, geoMeanTrueClassProb=0.841736920530503, N=15]\n"
     ]
    },
    {
     "name": "stdout",
     "output_type": "stream",
     "text": [
      "INFO  2025-07-17 17:34:37,240 sensai.evaluation.eval_util:perform_cross_validation:351 - Cross-validation results:\n",
      "       mean[accuracy]  std[accuracy]  mean[balancedAccuracy]  std[balancedAccuracy]  mean[geoMeanTrueClassProb]  std[geoMeanTrueClassProb]\n",
      "class            0.96       0.053333                0.963571               0.050077                     0.89878                    0.10223\n"
     ]
    },
    {
     "data": {
      "text/plain": [
       "<sensai.evaluation.crossval.VectorClassificationModelCrossValidationData at 0x7fd16b1b2e60>"
      ]
     },
     "execution_count": 22,
     "metadata": {},
     "output_type": "execute_result"
    },
    {
     "data": {
      "image/png": "[encoded data removed]",
      "text/plain": [
       "<Figure size 900x900 with 2 Axes>"
      ]
     },
     "metadata": {},
     "output_type": "display_data"
    }
   ],
   "source": [
    "eval_util.perform_cross_validation(random_forest_model, show_plots=True)"
   ]
  },
  {
   "cell_type": "markdown",
   "metadata": {},
   "source": [
    "As you can see, the plot we disabled earlier is no longer being generated."
   ]
  },
  {
   "cell_type": "markdown",
   "metadata": {},
   "source": [
    "#### Comparing Models\n",
    "\n",
    "A most common use case is to compare the performance of several models. The evaluation utility makes it very simple to compare any number of models.\n",
    "\n",
    "Let's say we want to compare the random forest we have been using thus far to a simple decision tree."
   ]
  },
  {
   "cell_type": "code",
   "execution_count": 23,
   "metadata": {
    "execution": {
     "iopub.execute_input": "2025-07-17T17:34:37.456486Z",
     "iopub.status.busy": "2025-07-17T17:34:37.456241Z",
     "iopub.status.idle": "2025-07-17T17:34:39.013809Z",
     "shell.execute_reply": "2025-07-17T17:34:39.013089Z"
    }
   },
   "outputs": [
    {
     "name": "stdout",
     "output_type": "stream",
     "text": [
      "INFO  2025-07-17 17:34:37,473 sensai.evaluation.eval_util:compare_models:400 - Evaluating model 1/2 named 'RandomForest' ...\n"
     ]
    },
    {
     "name": "stdout",
     "output_type": "stream",
     "text": [
      "INFO  2025-07-17 17:34:37,478 sensai.evaluation.crossval:eval_model:192 - Training and evaluating model with fold 1/10 ...\n"
     ]
    },
    {
     "name": "stdout",
     "output_type": "stream",
     "text": [
      "INFO  2025-07-17 17:34:37,478 sensai.vector_model:fit:359 - Fitting SkLearnRandomForestVectorClassificationModel instance\n"
     ]
    },
    {
     "name": "stdout",
     "output_type": "stream",
     "text": [
      "INFO  2025-07-17 17:34:37,480 sensai.sklearn.sklearn_base:_fit_classifier:314 - Fitting sklearn classifier of type RandomForestClassifier\n"
     ]
    },
    {
     "name": "stdout",
     "output_type": "stream",
     "text": [
      "INFO  2025-07-17 17:34:37,582 sensai.vector_model:fit:388 - Fitting completed in 0.10 seconds: SkLearnRandomForestVectorClassificationModel[featureGenerator=None, rawInputTransformerChain=DataFrameTransformerChain[dataFrameTransformers=[]], featureTransformerChain=DataFrameTransformerChain[dataFrameTransformers=[]], fitArgs={}, useBalancedClassWeights=False, useLabelEncoding=False, name='RandomForest', model='RandomForestClassifier(min_samples_leaf=2, random_state=42)']\n"
     ]
    },
    {
     "name": "stdout",
     "output_type": "stream",
     "text": [
      "INFO  2025-07-17 17:34:37,593 sensai.evaluation.crossval:eval_model:201 - Evaluation result for class, fold 1/10: ClassificationEvalStats[accuracy=1.0, balancedAccuracy=1.0, geoMeanTrueClassProb=0.9553599022560102, N=15]\n"
     ]
    },
    {
     "name": "stdout",
     "output_type": "stream",
     "text": [
      "INFO  2025-07-17 17:34:37,594 sensai.evaluation.crossval:eval_model:192 - Training and evaluating model with fold 2/10 ...\n"
     ]
    },
    {
     "name": "stdout",
     "output_type": "stream",
     "text": [
      "INFO  2025-07-17 17:34:37,595 sensai.vector_model:fit:359 - Fitting SkLearnRandomForestVectorClassificationModel instance\n"
     ]
    },
    {
     "name": "stdout",
     "output_type": "stream",
     "text": [
      "INFO  2025-07-17 17:34:37,596 sensai.sklearn.sklearn_base:_fit_classifier:314 - Fitting sklearn classifier of type RandomForestClassifier\n"
     ]
    },
    {
     "name": "stdout",
     "output_type": "stream",
     "text": [
      "INFO  2025-07-17 17:34:37,698 sensai.vector_model:fit:388 - Fitting completed in 0.10 seconds: SkLearnRandomForestVectorClassificationModel[featureGenerator=None, rawInputTransformerChain=DataFrameTransformerChain[dataFrameTransformers=[]], featureTransformerChain=DataFrameTransformerChain[dataFrameTransformers=[]], fitArgs={}, useBalancedClassWeights=False, useLabelEncoding=False, name='RandomForest', model='RandomForestClassifier(min_samples_leaf=2, random_state=42)']\n"
     ]
    },
    {
     "name": "stdout",
     "output_type": "stream",
     "text": [
      "INFO  2025-07-17 17:34:37,710 sensai.evaluation.crossval:eval_model:201 - Evaluation result for class, fold 2/10: ClassificationEvalStats[accuracy=1.0, balancedAccuracy=1.0, geoMeanTrueClassProb=0.9734228107223192, N=15]\n"
     ]
    },
    {
     "name": "stdout",
     "output_type": "stream",
     "text": [
      "INFO  2025-07-17 17:34:37,710 sensai.evaluation.crossval:eval_model:192 - Training and evaluating model with fold 3/10 ...\n"
     ]
    },
    {
     "name": "stdout",
     "output_type": "stream",
     "text": [
      "INFO  2025-07-17 17:34:37,712 sensai.vector_model:fit:359 - Fitting SkLearnRandomForestVectorClassificationModel instance\n"
     ]
    },
    {
     "name": "stdout",
     "output_type": "stream",
     "text": [
      "INFO  2025-07-17 17:34:37,714 sensai.sklearn.sklearn_base:_fit_classifier:314 - Fitting sklearn classifier of type RandomForestClassifier\n"
     ]
    },
    {
     "name": "stdout",
     "output_type": "stream",
     "text": [
      "INFO  2025-07-17 17:34:37,816 sensai.vector_model:fit:388 - Fitting completed in 0.10 seconds: SkLearnRandomForestVectorClassificationModel[featureGenerator=None, rawInputTransformerChain=DataFrameTransformerChain[dataFrameTransformers=[]], featureTransformerChain=DataFrameTransformerChain[dataFrameTransformers=[]], fitArgs={}, useBalancedClassWeights=False, useLabelEncoding=False, name='RandomForest', model='RandomForestClassifier(min_samples_leaf=2, random_state=42)']\n"
     ]
    },
    {
     "name": "stdout",
     "output_type": "stream",
     "text": [
      "INFO  2025-07-17 17:34:37,828 sensai.evaluation.crossval:eval_model:201 - Evaluation result for class, fold 3/10: ClassificationEvalStats[accuracy=1.0, balancedAccuracy=1.0, geoMeanTrueClassProb=0.976458969438705, N=15]\n"
     ]
    },
    {
     "name": "stdout",
     "output_type": "stream",
     "text": [
      "INFO  2025-07-17 17:34:37,829 sensai.evaluation.crossval:eval_model:192 - Training and evaluating model with fold 4/10 ...\n"
     ]
    },
    {
     "name": "stdout",
     "output_type": "stream",
     "text": [
      "INFO  2025-07-17 17:34:37,830 sensai.vector_model:fit:359 - Fitting SkLearnRandomForestVectorClassificationModel instance\n"
     ]
    },
    {
     "name": "stdout",
     "output_type": "stream",
     "text": [
      "INFO  2025-07-17 17:34:37,831 sensai.sklearn.sklearn_base:_fit_classifier:314 - Fitting sklearn classifier of type RandomForestClassifier\n"
     ]
    },
    {
     "name": "stdout",
     "output_type": "stream",
     "text": [
      "INFO  2025-07-17 17:34:37,932 sensai.vector_model:fit:388 - Fitting completed in 0.10 seconds: SkLearnRandomForestVectorClassificationModel[featureGenerator=None, rawInputTransformerChain=DataFrameTransformerChain[dataFrameTransformers=[]], featureTransformerChain=DataFrameTransformerChain[dataFrameTransformers=[]], fitArgs={}, useBalancedClassWeights=False, useLabelEncoding=False, name='RandomForest', model='RandomForestClassifier(min_samples_leaf=2, random_state=42)']\n"
     ]
    },
    {
     "name": "stdout",
     "output_type": "stream",
     "text": [
      "INFO  2025-07-17 17:34:37,944 sensai.evaluation.crossval:eval_model:201 - Evaluation result for class, fold 4/10: ClassificationEvalStats[accuracy=0.9333333333333333, balancedAccuracy=0.9333333333333332, geoMeanTrueClassProb=0.9411926691126593, N=15]\n"
     ]
    },
    {
     "name": "stdout",
     "output_type": "stream",
     "text": [
      "INFO  2025-07-17 17:34:37,944 sensai.evaluation.crossval:eval_model:192 - Training and evaluating model with fold 5/10 ...\n"
     ]
    },
    {
     "name": "stdout",
     "output_type": "stream",
     "text": [
      "INFO  2025-07-17 17:34:37,945 sensai.vector_model:fit:359 - Fitting SkLearnRandomForestVectorClassificationModel instance\n"
     ]
    },
    {
     "name": "stdout",
     "output_type": "stream",
     "text": [
      "INFO  2025-07-17 17:34:37,946 sensai.sklearn.sklearn_base:_fit_classifier:314 - Fitting sklearn classifier of type RandomForestClassifier\n"
     ]
    },
    {
     "name": "stdout",
     "output_type": "stream",
     "text": [
      "INFO  2025-07-17 17:34:38,048 sensai.vector_model:fit:388 - Fitting completed in 0.10 seconds: SkLearnRandomForestVectorClassificationModel[featureGenerator=None, rawInputTransformerChain=DataFrameTransformerChain[dataFrameTransformers=[]], featureTransformerChain=DataFrameTransformerChain[dataFrameTransformers=[]], fitArgs={}, useBalancedClassWeights=False, useLabelEncoding=False, name='RandomForest', model='RandomForestClassifier(min_samples_leaf=2, random_state=42)']\n"
     ]
    },
    {
     "name": "stdout",
     "output_type": "stream",
     "text": [
      "INFO  2025-07-17 17:34:38,059 sensai.evaluation.crossval:eval_model:201 - Evaluation result for class, fold 5/10: ClassificationEvalStats[accuracy=1.0, balancedAccuracy=1.0, geoMeanTrueClassProb=0.9298964965102043, N=15]\n"
     ]
    },
    {
     "name": "stdout",
     "output_type": "stream",
     "text": [
      "INFO  2025-07-17 17:34:38,060 sensai.evaluation.crossval:eval_model:192 - Training and evaluating model with fold 6/10 ...\n"
     ]
    },
    {
     "name": "stdout",
     "output_type": "stream",
     "text": [
      "INFO  2025-07-17 17:34:38,060 sensai.vector_model:fit:359 - Fitting SkLearnRandomForestVectorClassificationModel instance\n"
     ]
    },
    {
     "name": "stdout",
     "output_type": "stream",
     "text": [
      "INFO  2025-07-17 17:34:38,062 sensai.sklearn.sklearn_base:_fit_classifier:314 - Fitting sklearn classifier of type RandomForestClassifier\n"
     ]
    },
    {
     "name": "stdout",
     "output_type": "stream",
     "text": [
      "INFO  2025-07-17 17:34:38,164 sensai.vector_model:fit:388 - Fitting completed in 0.10 seconds: SkLearnRandomForestVectorClassificationModel[featureGenerator=None, rawInputTransformerChain=DataFrameTransformerChain[dataFrameTransformers=[]], featureTransformerChain=DataFrameTransformerChain[dataFrameTransformers=[]], fitArgs={}, useBalancedClassWeights=False, useLabelEncoding=False, name='RandomForest', model='RandomForestClassifier(min_samples_leaf=2, random_state=42)']\n"
     ]
    },
    {
     "name": "stdout",
     "output_type": "stream",
     "text": [
      "INFO  2025-07-17 17:34:38,176 sensai.evaluation.crossval:eval_model:201 - Evaluation result for class, fold 6/10: ClassificationEvalStats[accuracy=0.8666666666666667, balancedAccuracy=0.8888888888888888, geoMeanTrueClassProb=0.6379522029160006, N=15]\n"
     ]
    },
    {
     "name": "stdout",
     "output_type": "stream",
     "text": [
      "INFO  2025-07-17 17:34:38,176 sensai.evaluation.crossval:eval_model:192 - Training and evaluating model with fold 7/10 ...\n"
     ]
    },
    {
     "name": "stdout",
     "output_type": "stream",
     "text": [
      "INFO  2025-07-17 17:34:38,177 sensai.vector_model:fit:359 - Fitting SkLearnRandomForestVectorClassificationModel instance\n"
     ]
    },
    {
     "name": "stdout",
     "output_type": "stream",
     "text": [
      "INFO  2025-07-17 17:34:38,178 sensai.sklearn.sklearn_base:_fit_classifier:314 - Fitting sklearn classifier of type RandomForestClassifier\n"
     ]
    },
    {
     "name": "stdout",
     "output_type": "stream",
     "text": [
      "INFO  2025-07-17 17:34:38,281 sensai.vector_model:fit:388 - Fitting completed in 0.10 seconds: SkLearnRandomForestVectorClassificationModel[featureGenerator=None, rawInputTransformerChain=DataFrameTransformerChain[dataFrameTransformers=[]], featureTransformerChain=DataFrameTransformerChain[dataFrameTransformers=[]], fitArgs={}, useBalancedClassWeights=False, useLabelEncoding=False, name='RandomForest', model='RandomForestClassifier(min_samples_leaf=2, random_state=42)']\n"
     ]
    },
    {
     "name": "stdout",
     "output_type": "stream",
     "text": [
      "INFO  2025-07-17 17:34:38,295 sensai.evaluation.crossval:eval_model:201 - Evaluation result for class, fold 7/10: ClassificationEvalStats[accuracy=0.8666666666666667, balancedAccuracy=0.8611111111111112, geoMeanTrueClassProb=0.8099785263057822, N=15]\n"
     ]
    },
    {
     "name": "stdout",
     "output_type": "stream",
     "text": [
      "INFO  2025-07-17 17:34:38,296 sensai.evaluation.crossval:eval_model:192 - Training and evaluating model with fold 8/10 ...\n"
     ]
    },
    {
     "name": "stdout",
     "output_type": "stream",
     "text": [
      "INFO  2025-07-17 17:34:38,296 sensai.vector_model:fit:359 - Fitting SkLearnRandomForestVectorClassificationModel instance\n"
     ]
    },
    {
     "name": "stdout",
     "output_type": "stream",
     "text": [
      "INFO  2025-07-17 17:34:38,298 sensai.sklearn.sklearn_base:_fit_classifier:314 - Fitting sklearn classifier of type RandomForestClassifier\n"
     ]
    },
    {
     "name": "stdout",
     "output_type": "stream",
     "text": [
      "INFO  2025-07-17 17:34:38,421 sensai.vector_model:fit:388 - Fitting completed in 0.12 seconds: SkLearnRandomForestVectorClassificationModel[featureGenerator=None, rawInputTransformerChain=DataFrameTransformerChain[dataFrameTransformers=[]], featureTransformerChain=DataFrameTransformerChain[dataFrameTransformers=[]], fitArgs={}, useBalancedClassWeights=False, useLabelEncoding=False, name='RandomForest', model='RandomForestClassifier(min_samples_leaf=2, random_state=42)']\n"
     ]
    },
    {
     "name": "stdout",
     "output_type": "stream",
     "text": [
      "INFO  2025-07-17 17:34:38,433 sensai.evaluation.crossval:eval_model:201 - Evaluation result for class, fold 8/10: ClassificationEvalStats[accuracy=1.0, balancedAccuracy=1.0, geoMeanTrueClassProb=0.9657414983648998, N=15]\n"
     ]
    },
    {
     "name": "stdout",
     "output_type": "stream",
     "text": [
      "INFO  2025-07-17 17:34:38,434 sensai.evaluation.crossval:eval_model:192 - Training and evaluating model with fold 9/10 ...\n"
     ]
    },
    {
     "name": "stdout",
     "output_type": "stream",
     "text": [
      "INFO  2025-07-17 17:34:38,435 sensai.vector_model:fit:359 - Fitting SkLearnRandomForestVectorClassificationModel instance\n"
     ]
    },
    {
     "name": "stdout",
     "output_type": "stream",
     "text": [
      "INFO  2025-07-17 17:34:38,436 sensai.sklearn.sklearn_base:_fit_classifier:314 - Fitting sklearn classifier of type RandomForestClassifier\n"
     ]
    },
    {
     "name": "stdout",
     "output_type": "stream",
     "text": [
      "INFO  2025-07-17 17:34:38,550 sensai.vector_model:fit:388 - Fitting completed in 0.11 seconds: SkLearnRandomForestVectorClassificationModel[featureGenerator=None, rawInputTransformerChain=DataFrameTransformerChain[dataFrameTransformers=[]], featureTransformerChain=DataFrameTransformerChain[dataFrameTransformers=[]], fitArgs={}, useBalancedClassWeights=False, useLabelEncoding=False, name='RandomForest', model='RandomForestClassifier(min_samples_leaf=2, random_state=42)']\n"
     ]
    },
    {
     "name": "stdout",
     "output_type": "stream",
     "text": [
      "INFO  2025-07-17 17:34:38,563 sensai.evaluation.crossval:eval_model:201 - Evaluation result for class, fold 9/10: ClassificationEvalStats[accuracy=1.0, balancedAccuracy=1.0, geoMeanTrueClassProb=0.9560552426688266, N=15]\n"
     ]
    },
    {
     "name": "stdout",
     "output_type": "stream",
     "text": [
      "INFO  2025-07-17 17:34:38,563 sensai.evaluation.crossval:eval_model:192 - Training and evaluating model with fold 10/10 ...\n"
     ]
    },
    {
     "name": "stdout",
     "output_type": "stream",
     "text": [
      "INFO  2025-07-17 17:34:38,564 sensai.vector_model:fit:359 - Fitting SkLearnRandomForestVectorClassificationModel instance\n"
     ]
    },
    {
     "name": "stdout",
     "output_type": "stream",
     "text": [
      "INFO  2025-07-17 17:34:38,565 sensai.sklearn.sklearn_base:_fit_classifier:314 - Fitting sklearn classifier of type RandomForestClassifier\n"
     ]
    },
    {
     "name": "stdout",
     "output_type": "stream",
     "text": [
      "INFO  2025-07-17 17:34:38,669 sensai.vector_model:fit:388 - Fitting completed in 0.10 seconds: SkLearnRandomForestVectorClassificationModel[featureGenerator=None, rawInputTransformerChain=DataFrameTransformerChain[dataFrameTransformers=[]], featureTransformerChain=DataFrameTransformerChain[dataFrameTransformers=[]], fitArgs={}, useBalancedClassWeights=False, useLabelEncoding=False, name='RandomForest', model='RandomForestClassifier(min_samples_leaf=2, random_state=42)']\n"
     ]
    },
    {
     "name": "stdout",
     "output_type": "stream",
     "text": [
      "INFO  2025-07-17 17:34:38,684 sensai.evaluation.crossval:eval_model:201 - Evaluation result for class, fold 10/10: ClassificationEvalStats[accuracy=0.9333333333333333, balancedAccuracy=0.9523809523809524, geoMeanTrueClassProb=0.841736920530503, N=15]\n"
     ]
    },
    {
     "name": "stdout",
     "output_type": "stream",
     "text": [
      "INFO  2025-07-17 17:34:38,702 sensai.evaluation.eval_util:perform_cross_validation:351 - Cross-validation results:\n",
      "       mean[accuracy]  std[accuracy]  mean[balancedAccuracy]  std[balancedAccuracy]  mean[geoMeanTrueClassProb]  std[geoMeanTrueClassProb]\n",
      "class            0.96       0.053333                0.963571               0.050077                     0.89878                    0.10223\n"
     ]
    },
    {
     "name": "stdout",
     "output_type": "stream",
     "text": [
      "INFO  2025-07-17 17:34:38,786 sensai.evaluation.eval_util:compare_models:400 - Evaluating model 2/2 named 'DecisionTree' ...\n"
     ]
    },
    {
     "name": "stdout",
     "output_type": "stream",
     "text": [
      "INFO  2025-07-17 17:34:38,787 sensai.evaluation.crossval:eval_model:192 - Training and evaluating model with fold 1/10 ...\n"
     ]
    },
    {
     "name": "stdout",
     "output_type": "stream",
     "text": [
      "INFO  2025-07-17 17:34:38,788 sensai.vector_model:fit:359 - Fitting SkLearnDecisionTreeVectorClassificationModel instance\n"
     ]
    },
    {
     "name": "stdout",
     "output_type": "stream",
     "text": [
      "INFO  2025-07-17 17:34:38,789 sensai.sklearn.sklearn_base:_fit_classifier:314 - Fitting sklearn classifier of type DecisionTreeClassifier\n"
     ]
    },
    {
     "name": "stdout",
     "output_type": "stream",
     "text": [
      "INFO  2025-07-17 17:34:38,792 sensai.vector_model:fit:388 - Fitting completed in 0.00 seconds: SkLearnDecisionTreeVectorClassificationModel[featureGenerator=None, rawInputTransformerChain=DataFrameTransformerChain[dataFrameTransformers=[]], featureTransformerChain=DataFrameTransformerChain[dataFrameTransformers=[]], fitArgs={}, useBalancedClassWeights=False, useLabelEncoding=False, name='DecisionTree', model='DecisionTreeClassifier(min_samples_leaf=2, random_state=42)']\n"
     ]
    },
    {
     "name": "stdout",
     "output_type": "stream",
     "text": [
      "INFO  2025-07-17 17:34:38,799 sensai.evaluation.crossval:eval_model:201 - Evaluation result for class, fold 1/10: ClassificationEvalStats[accuracy=1.0, balancedAccuracy=1.0, geoMeanTrueClassProb=1.0, N=15]\n"
     ]
    },
    {
     "name": "stdout",
     "output_type": "stream",
     "text": [
      "INFO  2025-07-17 17:34:38,799 sensai.evaluation.crossval:eval_model:192 - Training and evaluating model with fold 2/10 ...\n"
     ]
    },
    {
     "name": "stdout",
     "output_type": "stream",
     "text": [
      "INFO  2025-07-17 17:34:38,800 sensai.vector_model:fit:359 - Fitting SkLearnDecisionTreeVectorClassificationModel instance\n"
     ]
    },
    {
     "name": "stdout",
     "output_type": "stream",
     "text": [
      "INFO  2025-07-17 17:34:38,801 sensai.sklearn.sklearn_base:_fit_classifier:314 - Fitting sklearn classifier of type DecisionTreeClassifier\n"
     ]
    },
    {
     "name": "stdout",
     "output_type": "stream",
     "text": [
      "INFO  2025-07-17 17:34:38,804 sensai.vector_model:fit:388 - Fitting completed in 0.00 seconds: SkLearnDecisionTreeVectorClassificationModel[featureGenerator=None, rawInputTransformerChain=DataFrameTransformerChain[dataFrameTransformers=[]], featureTransformerChain=DataFrameTransformerChain[dataFrameTransformers=[]], fitArgs={}, useBalancedClassWeights=False, useLabelEncoding=False, name='DecisionTree', model='DecisionTreeClassifier(min_samples_leaf=2, random_state=42)']\n"
     ]
    },
    {
     "name": "stdout",
     "output_type": "stream",
     "text": [
      "INFO  2025-07-17 17:34:38,810 sensai.evaluation.crossval:eval_model:201 - Evaluation result for class, fold 2/10: ClassificationEvalStats[accuracy=1.0, balancedAccuracy=1.0, geoMeanTrueClassProb=1.0, N=15]\n"
     ]
    },
    {
     "name": "stdout",
     "output_type": "stream",
     "text": [
      "INFO  2025-07-17 17:34:38,811 sensai.evaluation.crossval:eval_model:192 - Training and evaluating model with fold 3/10 ...\n"
     ]
    },
    {
     "name": "stdout",
     "output_type": "stream",
     "text": [
      "INFO  2025-07-17 17:34:38,811 sensai.vector_model:fit:359 - Fitting SkLearnDecisionTreeVectorClassificationModel instance\n"
     ]
    },
    {
     "name": "stdout",
     "output_type": "stream",
     "text": [
      "INFO  2025-07-17 17:34:38,813 sensai.sklearn.sklearn_base:_fit_classifier:314 - Fitting sklearn classifier of type DecisionTreeClassifier\n"
     ]
    },
    {
     "name": "stdout",
     "output_type": "stream",
     "text": [
      "INFO  2025-07-17 17:34:38,816 sensai.vector_model:fit:388 - Fitting completed in 0.00 seconds: SkLearnDecisionTreeVectorClassificationModel[featureGenerator=None, rawInputTransformerChain=DataFrameTransformerChain[dataFrameTransformers=[]], featureTransformerChain=DataFrameTransformerChain[dataFrameTransformers=[]], fitArgs={}, useBalancedClassWeights=False, useLabelEncoding=False, name='DecisionTree', model='DecisionTreeClassifier(min_samples_leaf=2, random_state=42)']\n"
     ]
    },
    {
     "name": "stdout",
     "output_type": "stream",
     "text": [
      "INFO  2025-07-17 17:34:38,822 sensai.evaluation.crossval:eval_model:201 - Evaluation result for class, fold 3/10: ClassificationEvalStats[accuracy=1.0, balancedAccuracy=1.0, geoMeanTrueClassProb=1.0, N=15]\n"
     ]
    },
    {
     "name": "stdout",
     "output_type": "stream",
     "text": [
      "INFO  2025-07-17 17:34:38,823 sensai.evaluation.crossval:eval_model:192 - Training and evaluating model with fold 4/10 ...\n"
     ]
    },
    {
     "name": "stdout",
     "output_type": "stream",
     "text": [
      "INFO  2025-07-17 17:34:38,823 sensai.vector_model:fit:359 - Fitting SkLearnDecisionTreeVectorClassificationModel instance\n"
     ]
    },
    {
     "name": "stdout",
     "output_type": "stream",
     "text": [
      "INFO  2025-07-17 17:34:38,824 sensai.sklearn.sklearn_base:_fit_classifier:314 - Fitting sklearn classifier of type DecisionTreeClassifier\n"
     ]
    },
    {
     "name": "stdout",
     "output_type": "stream",
     "text": [
      "INFO  2025-07-17 17:34:38,827 sensai.vector_model:fit:388 - Fitting completed in 0.00 seconds: SkLearnDecisionTreeVectorClassificationModel[featureGenerator=None, rawInputTransformerChain=DataFrameTransformerChain[dataFrameTransformers=[]], featureTransformerChain=DataFrameTransformerChain[dataFrameTransformers=[]], fitArgs={}, useBalancedClassWeights=False, useLabelEncoding=False, name='DecisionTree', model='DecisionTreeClassifier(min_samples_leaf=2, random_state=42)']\n"
     ]
    },
    {
     "name": "stdout",
     "output_type": "stream",
     "text": [
      "INFO  2025-07-17 17:34:38,833 sensai.evaluation.crossval:eval_model:201 - Evaluation result for class, fold 4/10: ClassificationEvalStats[accuracy=0.9333333333333333, balancedAccuracy=0.9333333333333332, geoMeanTrueClassProb=0.6141303814089187, N=15]\n"
     ]
    },
    {
     "name": "stdout",
     "output_type": "stream",
     "text": [
      "INFO  2025-07-17 17:34:38,834 sensai.evaluation.crossval:eval_model:192 - Training and evaluating model with fold 5/10 ...\n"
     ]
    },
    {
     "name": "stdout",
     "output_type": "stream",
     "text": [
      "INFO  2025-07-17 17:34:38,835 sensai.vector_model:fit:359 - Fitting SkLearnDecisionTreeVectorClassificationModel instance\n"
     ]
    },
    {
     "name": "stdout",
     "output_type": "stream",
     "text": [
      "INFO  2025-07-17 17:34:38,836 sensai.sklearn.sklearn_base:_fit_classifier:314 - Fitting sklearn classifier of type DecisionTreeClassifier\n"
     ]
    },
    {
     "name": "stdout",
     "output_type": "stream",
     "text": [
      "INFO  2025-07-17 17:34:38,839 sensai.vector_model:fit:388 - Fitting completed in 0.00 seconds: SkLearnDecisionTreeVectorClassificationModel[featureGenerator=None, rawInputTransformerChain=DataFrameTransformerChain[dataFrameTransformers=[]], featureTransformerChain=DataFrameTransformerChain[dataFrameTransformers=[]], fitArgs={}, useBalancedClassWeights=False, useLabelEncoding=False, name='DecisionTree', model='DecisionTreeClassifier(min_samples_leaf=2, random_state=42)']\n"
     ]
    },
    {
     "name": "stdout",
     "output_type": "stream",
     "text": [
      "INFO  2025-07-17 17:34:38,846 sensai.evaluation.crossval:eval_model:201 - Evaluation result for class, fold 5/10: ClassificationEvalStats[accuracy=0.9333333333333333, balancedAccuracy=0.9333333333333332, geoMeanTrueClassProb=0.9548416039104165, N=15]\n"
     ]
    },
    {
     "name": "stdout",
     "output_type": "stream",
     "text": [
      "INFO  2025-07-17 17:34:38,847 sensai.evaluation.crossval:eval_model:192 - Training and evaluating model with fold 6/10 ...\n"
     ]
    },
    {
     "name": "stdout",
     "output_type": "stream",
     "text": [
      "INFO  2025-07-17 17:34:38,848 sensai.vector_model:fit:359 - Fitting SkLearnDecisionTreeVectorClassificationModel instance\n"
     ]
    },
    {
     "name": "stdout",
     "output_type": "stream",
     "text": [
      "INFO  2025-07-17 17:34:38,849 sensai.sklearn.sklearn_base:_fit_classifier:314 - Fitting sklearn classifier of type DecisionTreeClassifier\n"
     ]
    },
    {
     "name": "stdout",
     "output_type": "stream",
     "text": [
      "INFO  2025-07-17 17:34:38,852 sensai.vector_model:fit:388 - Fitting completed in 0.00 seconds: SkLearnDecisionTreeVectorClassificationModel[featureGenerator=None, rawInputTransformerChain=DataFrameTransformerChain[dataFrameTransformers=[]], featureTransformerChain=DataFrameTransformerChain[dataFrameTransformers=[]], fitArgs={}, useBalancedClassWeights=False, useLabelEncoding=False, name='DecisionTree', model='DecisionTreeClassifier(min_samples_leaf=2, random_state=42)']\n"
     ]
    },
    {
     "name": "stdout",
     "output_type": "stream",
     "text": [
      "INFO  2025-07-17 17:34:38,858 sensai.evaluation.crossval:eval_model:201 - Evaluation result for class, fold 6/10: ClassificationEvalStats[accuracy=0.8666666666666667, balancedAccuracy=0.8888888888888888, geoMeanTrueClassProb=0.39810717055349726, N=15]\n"
     ]
    },
    {
     "name": "stdout",
     "output_type": "stream",
     "text": [
      "INFO  2025-07-17 17:34:38,859 sensai.evaluation.crossval:eval_model:192 - Training and evaluating model with fold 7/10 ...\n"
     ]
    },
    {
     "name": "stdout",
     "output_type": "stream",
     "text": [
      "INFO  2025-07-17 17:34:38,859 sensai.vector_model:fit:359 - Fitting SkLearnDecisionTreeVectorClassificationModel instance\n"
     ]
    },
    {
     "name": "stdout",
     "output_type": "stream",
     "text": [
      "INFO  2025-07-17 17:34:38,861 sensai.sklearn.sklearn_base:_fit_classifier:314 - Fitting sklearn classifier of type DecisionTreeClassifier\n"
     ]
    },
    {
     "name": "stdout",
     "output_type": "stream",
     "text": [
      "INFO  2025-07-17 17:34:38,864 sensai.vector_model:fit:388 - Fitting completed in 0.00 seconds: SkLearnDecisionTreeVectorClassificationModel[featureGenerator=None, rawInputTransformerChain=DataFrameTransformerChain[dataFrameTransformers=[]], featureTransformerChain=DataFrameTransformerChain[dataFrameTransformers=[]], fitArgs={}, useBalancedClassWeights=False, useLabelEncoding=False, name='DecisionTree', model='DecisionTreeClassifier(min_samples_leaf=2, random_state=42)']\n"
     ]
    },
    {
     "name": "stdout",
     "output_type": "stream",
     "text": [
      "INFO  2025-07-17 17:34:38,870 sensai.evaluation.crossval:eval_model:201 - Evaluation result for class, fold 7/10: ClassificationEvalStats[accuracy=0.8666666666666667, balancedAccuracy=0.8611111111111112, geoMeanTrueClassProb=0.39810717055349726, N=15]\n"
     ]
    },
    {
     "name": "stdout",
     "output_type": "stream",
     "text": [
      "INFO  2025-07-17 17:34:38,871 sensai.evaluation.crossval:eval_model:192 - Training and evaluating model with fold 8/10 ...\n"
     ]
    },
    {
     "name": "stdout",
     "output_type": "stream",
     "text": [
      "INFO  2025-07-17 17:34:38,871 sensai.vector_model:fit:359 - Fitting SkLearnDecisionTreeVectorClassificationModel instance\n"
     ]
    },
    {
     "name": "stdout",
     "output_type": "stream",
     "text": [
      "INFO  2025-07-17 17:34:38,872 sensai.sklearn.sklearn_base:_fit_classifier:314 - Fitting sklearn classifier of type DecisionTreeClassifier\n"
     ]
    },
    {
     "name": "stdout",
     "output_type": "stream",
     "text": [
      "INFO  2025-07-17 17:34:38,876 sensai.vector_model:fit:388 - Fitting completed in 0.00 seconds: SkLearnDecisionTreeVectorClassificationModel[featureGenerator=None, rawInputTransformerChain=DataFrameTransformerChain[dataFrameTransformers=[]], featureTransformerChain=DataFrameTransformerChain[dataFrameTransformers=[]], fitArgs={}, useBalancedClassWeights=False, useLabelEncoding=False, name='DecisionTree', model='DecisionTreeClassifier(min_samples_leaf=2, random_state=42)']\n"
     ]
    },
    {
     "name": "stdout",
     "output_type": "stream",
     "text": [
      "INFO  2025-07-17 17:34:38,882 sensai.evaluation.crossval:eval_model:201 - Evaluation result for class, fold 8/10: ClassificationEvalStats[accuracy=0.9333333333333333, balancedAccuracy=0.9444444444444445, geoMeanTrueClassProb=0.9548416039104165, N=15]\n"
     ]
    },
    {
     "name": "stdout",
     "output_type": "stream",
     "text": [
      "INFO  2025-07-17 17:34:38,882 sensai.evaluation.crossval:eval_model:192 - Training and evaluating model with fold 9/10 ...\n"
     ]
    },
    {
     "name": "stdout",
     "output_type": "stream",
     "text": [
      "INFO  2025-07-17 17:34:38,883 sensai.vector_model:fit:359 - Fitting SkLearnDecisionTreeVectorClassificationModel instance\n"
     ]
    },
    {
     "name": "stdout",
     "output_type": "stream",
     "text": [
      "INFO  2025-07-17 17:34:38,884 sensai.sklearn.sklearn_base:_fit_classifier:314 - Fitting sklearn classifier of type DecisionTreeClassifier\n"
     ]
    },
    {
     "name": "stdout",
     "output_type": "stream",
     "text": [
      "INFO  2025-07-17 17:34:38,887 sensai.vector_model:fit:388 - Fitting completed in 0.00 seconds: SkLearnDecisionTreeVectorClassificationModel[featureGenerator=None, rawInputTransformerChain=DataFrameTransformerChain[dataFrameTransformers=[]], featureTransformerChain=DataFrameTransformerChain[dataFrameTransformers=[]], fitArgs={}, useBalancedClassWeights=False, useLabelEncoding=False, name='DecisionTree', model='DecisionTreeClassifier(min_samples_leaf=2, random_state=42)']\n"
     ]
    },
    {
     "name": "stdout",
     "output_type": "stream",
     "text": [
      "INFO  2025-07-17 17:34:38,893 sensai.evaluation.crossval:eval_model:201 - Evaluation result for class, fold 9/10: ClassificationEvalStats[accuracy=0.9333333333333333, balancedAccuracy=0.9333333333333332, geoMeanTrueClassProb=0.6141303814089187, N=15]\n"
     ]
    },
    {
     "name": "stdout",
     "output_type": "stream",
     "text": [
      "INFO  2025-07-17 17:34:38,894 sensai.evaluation.crossval:eval_model:192 - Training and evaluating model with fold 10/10 ...\n"
     ]
    },
    {
     "name": "stdout",
     "output_type": "stream",
     "text": [
      "INFO  2025-07-17 17:34:38,895 sensai.vector_model:fit:359 - Fitting SkLearnDecisionTreeVectorClassificationModel instance\n"
     ]
    },
    {
     "name": "stdout",
     "output_type": "stream",
     "text": [
      "INFO  2025-07-17 17:34:38,896 sensai.sklearn.sklearn_base:_fit_classifier:314 - Fitting sklearn classifier of type DecisionTreeClassifier\n"
     ]
    },
    {
     "name": "stdout",
     "output_type": "stream",
     "text": [
      "INFO  2025-07-17 17:34:38,899 sensai.vector_model:fit:388 - Fitting completed in 0.00 seconds: SkLearnDecisionTreeVectorClassificationModel[featureGenerator=None, rawInputTransformerChain=DataFrameTransformerChain[dataFrameTransformers=[]], featureTransformerChain=DataFrameTransformerChain[dataFrameTransformers=[]], fitArgs={}, useBalancedClassWeights=False, useLabelEncoding=False, name='DecisionTree', model='DecisionTreeClassifier(min_samples_leaf=2, random_state=42)']\n"
     ]
    },
    {
     "name": "stdout",
     "output_type": "stream",
     "text": [
      "INFO  2025-07-17 17:34:38,906 sensai.evaluation.crossval:eval_model:201 - Evaluation result for class, fold 10/10: ClassificationEvalStats[accuracy=0.9333333333333333, balancedAccuracy=0.9523809523809524, geoMeanTrueClassProb=0.6309573444801932, N=15]\n"
     ]
    },
    {
     "name": "stdout",
     "output_type": "stream",
     "text": [
      "INFO  2025-07-17 17:34:38,923 sensai.evaluation.eval_util:perform_cross_validation:351 - Cross-validation results:\n",
      "       mean[accuracy]  std[accuracy]  mean[balancedAccuracy]  std[balancedAccuracy]  mean[geoMeanTrueClassProb]  std[geoMeanTrueClassProb]\n",
      "class            0.94       0.046667                0.944683                0.04441                    0.756512                   0.238693\n"
     ]
    },
    {
     "name": "stdout",
     "output_type": "stream",
     "text": [
      "INFO  2025-07-17 17:34:39,010 sensai.evaluation.eval_util:compare_models:469 - Model comparison results, aggregated across folds:\n",
      "              mean[accuracy]  std[accuracy]  mean[balancedAccuracy]  std[balancedAccuracy]  mean[geoMeanTrueClassProb]  std[geoMeanTrueClassProb]\n",
      "model_name                                                                                                                                       \n",
      "RandomForest            0.96       0.053333                0.963571               0.050077                    0.898780                   0.102230\n",
      "DecisionTree            0.94       0.046667                0.944683               0.044410                    0.756512                   0.238693\n"
     ]
    }
   ],
   "source": [
    "results = eval_util.compare_models([\n",
    "        random_forest_model,\n",
    "        sensai.sklearn.classification.SkLearnDecisionTreeVectorClassificationModel(min_samples_leaf=2).with_name(\"DecisionTree\")],\n",
    "    use_cross_validation=True)"
   ]
  },
  {
   "cell_type": "markdown",
   "metadata": {},
   "source": [
    "In addition to the data frame with the aggregated metrics, which was already printed to the log, the results object contains all the data that was generated during the evaluation. We can, for example, use it to plot the distribution of one of the metrics across all the folds for one of our models."
   ]
  },
  {
   "cell_type": "code",
   "execution_count": 24,
   "metadata": {
    "execution": {
     "iopub.execute_input": "2025-07-17T17:34:39.016690Z",
     "iopub.status.busy": "2025-07-17T17:34:39.016261Z",
     "iopub.status.idle": "2025-07-17T17:34:39.203255Z",
     "shell.execute_reply": "2025-07-17T17:34:39.202512Z"
    }
   },
   "outputs": [
    {
     "data": {
      "text/html": [
       "<div>\n",
       "<style scoped>\n",
       "    .dataframe tbody tr th:only-of-type {\n",
       "        vertical-align: middle;\n",
       "    }\n",
       "\n",
       "    .dataframe tbody tr th {\n",
       "        vertical-align: top;\n",
       "    }\n",
       "\n",
       "    .dataframe thead th {\n",
       "        text-align: right;\n",
       "    }\n",
       "</style>\n",
       "<table border=\"1\" class=\"dataframe\">\n",
       "  <thead>\n",
       "    <tr style=\"text-align: right;\">\n",
       "      <th></th>\n",
       "      <th>mean[accuracy]</th>\n",
       "      <th>std[accuracy]</th>\n",
       "      <th>mean[balancedAccuracy]</th>\n",
       "      <th>std[balancedAccuracy]</th>\n",
       "      <th>mean[geoMeanTrueClassProb]</th>\n",
       "      <th>std[geoMeanTrueClassProb]</th>\n",
       "    </tr>\n",
       "    <tr>\n",
       "      <th>model_name</th>\n",
       "      <th></th>\n",
       "      <th></th>\n",
       "      <th></th>\n",
       "      <th></th>\n",
       "      <th></th>\n",
       "      <th></th>\n",
       "    </tr>\n",
       "  </thead>\n",
       "  <tbody>\n",
       "    <tr>\n",
       "      <th>RandomForest</th>\n",
       "      <td>0.96</td>\n",
       "      <td>0.053333</td>\n",
       "      <td>0.963571</td>\n",
       "      <td>0.050077</td>\n",
       "      <td>0.898780</td>\n",
       "      <td>0.102230</td>\n",
       "    </tr>\n",
       "    <tr>\n",
       "      <th>DecisionTree</th>\n",
       "      <td>0.94</td>\n",
       "      <td>0.046667</td>\n",
       "      <td>0.944683</td>\n",
       "      <td>0.044410</td>\n",
       "      <td>0.756512</td>\n",
       "      <td>0.238693</td>\n",
       "    </tr>\n",
       "  </tbody>\n",
       "</table>\n",
       "</div>"
      ],
      "text/plain": [
       "              mean[accuracy]  std[accuracy]  mean[balancedAccuracy]  \\\n",
       "model_name                                                            \n",
       "RandomForest            0.96       0.053333                0.963571   \n",
       "DecisionTree            0.94       0.046667                0.944683   \n",
       "\n",
       "              std[balancedAccuracy]  mean[geoMeanTrueClassProb]  \\\n",
       "model_name                                                        \n",
       "RandomForest               0.050077                    0.898780   \n",
       "DecisionTree               0.044410                    0.756512   \n",
       "\n",
       "              std[geoMeanTrueClassProb]  \n",
       "model_name                               \n",
       "RandomForest                   0.102230  \n",
       "DecisionTree                   0.238693  "
      ]
     },
     "metadata": {},
     "output_type": "display_data"
    },
    {
     "data": {
      "image/png": "[encoded data removed]",
      "text/plain": [
       "<Figure size 640x480 with 1 Axes>"
      ]
     },
     "metadata": {},
     "output_type": "display_data"
    }
   ],
   "source": [
    "display(results.results_df)\n",
    "\n",
    "esc_random_forest = results.result_by_model_name[\"RandomForest\"].cross_validation_data.get_eval_stats_collection()\n",
    "esc_random_forest.plot_distribution(\"accuracy\", bins=np.linspace(0,1,21), stat=\"count\", kde=False);\n"
   ]
  },
  {
   "cell_type": "markdown",
   "metadata": {},
   "source": [
    "We can also compute additional aggregations or inspect the full list of metrics."
   ]
  },
  {
   "cell_type": "code",
   "execution_count": 25,
   "metadata": {
    "execution": {
     "iopub.execute_input": "2025-07-17T17:34:39.206017Z",
     "iopub.status.busy": "2025-07-17T17:34:39.205571Z",
     "iopub.status.idle": "2025-07-17T17:34:39.227604Z",
     "shell.execute_reply": "2025-07-17T17:34:39.226845Z"
    }
   },
   "outputs": [
    {
     "data": {
      "text/plain": [
       "{'max[accuracy]': 1.0,\n",
       " 'min[accuracy]': 0.8666666666666667,\n",
       " 'max[balancedAccuracy]': 1.0,\n",
       " 'min[balancedAccuracy]': 0.8611111111111112,\n",
       " 'max[geoMeanTrueClassProb]': 0.976458969438705,\n",
       " 'min[geoMeanTrueClassProb]': 0.6379522029160006}"
      ]
     },
     "execution_count": 25,
     "metadata": {},
     "output_type": "execute_result"
    }
   ],
   "source": [
    "esc_random_forest.agg_metrics_dict(agg_fns=[np.max, np.min])"
   ]
  },
  {
   "cell_type": "code",
   "execution_count": 26,
   "metadata": {
    "execution": {
     "iopub.execute_input": "2025-07-17T17:34:39.230048Z",
     "iopub.status.busy": "2025-07-17T17:34:39.229621Z",
     "iopub.status.idle": "2025-07-17T17:34:39.250796Z",
     "shell.execute_reply": "2025-07-17T17:34:39.250086Z"
    }
   },
   "outputs": [
    {
     "data": {
      "text/plain": [
       "[1.0,\n",
       " 1.0,\n",
       " 1.0,\n",
       " 0.9333333333333333,\n",
       " 1.0,\n",
       " 0.8666666666666667,\n",
       " 0.8666666666666667,\n",
       " 1.0,\n",
       " 1.0,\n",
       " 0.9333333333333333]"
      ]
     },
     "execution_count": 26,
     "metadata": {},
     "output_type": "execute_result"
    }
   ],
   "source": [
    "esc_random_forest.get_values(\"accuracy\")"
   ]
  },
  {
   "cell_type": "markdown",
   "metadata": {},
   "source": [
    "## Feature Generators and Data Frame Transformers\n",
    "\n",
    "When dealing with the preparation of input data for a model, we often need to cater to technical requirements of various types of models. sensAI seeks to make the process of supporting multiple input pipelines for different types of models as simple as possible - by focusing on concise, declarative semantics and integrating the model-specific data extraction and transformation mechanisms into the models themselves.\n",
    "In essence, this means:\n",
    "\n",
    "  1. **Starting with the raw or most general representation of the data**\n",
    " \n",
    "     This could mean simply starting with the data that is straightforward for us to obtain - or using directly using particular domain specific objects.\n",
    "     \n",
    "     For example, if the problem is to classify situations, we might already have a ``Situation`` class in our code which represents all the data that is is relevant to a situation (e.g. the point in time, the affected user, the location, etc.). Pandas DataFrames can represent arbitrary data, so there is no reason to not simply use as the raw input data frame that is fed to our models a single column containing instances of class ``Situation``.\n",
    "     Or we might instead directly observe a set of sensor readings, all of which are real numbers; this scenario would certainly be closer to what we typically see in machine learning data sets, but it isn't always the case in the real world.\n",
    "     \n",
    "     Whatever the case may be, we can represent it in a data frame. We call the original input data frame, which we pass to a sensAI ``VectorModel``, the *raw data frame*.\n",
    "\n",
    "  2. **Extracing features from the raw data, using their \"natural\" representation** (using ``FeatureGenerators``)\n",
    "     \n",
    "     We extract from the raw data frame pieces of information that we regard as relevant *features* for the task at hand.\n",
    "     A sensAI ``FeatureGenerator`` can generate one or more data frame columns (containing arbitrary data), and a model can be associated with any number of feature generators.\n",
    "     Several key aspects:\n",
    "\n",
    "       * FeatureGenerators crititcally decouple the original raw data from the features used by the models, enabling different models to use different sets of features or \n",
    "         entirely different representations of the same features.\n",
    "       * FeatureGenerators become part of the model and are (where necessary) jointly trained with model. This facilitates model deployment, as every sensAI model becomes a single unit\n",
    "         that can directly process raw input data, which is (usually) straightforward to supply at inference time.\n",
    "       * FeatureGenerators store meta-data on the features they generate, enabling downstream components to handle them appropriately.\n",
    "\n",
    "     The feature representation that we choose to generate can be arbitrary, but oftentimes, we will want to extract \"natural\" feature representations, which could, in priciple, be used by many types of models, albeit in different concrete forms.\n",
    "     Sequential data can be naturally represented as an array/list, categorical data can be represented using descriptive category names, and numeric data can be represented using \n",
    "     unmodified integers and floating point numbers.\n",
    "\n",
    "  3. **Transforming feature representations into a form that is suitable for the model at hand** (using ``DataFrameTransformers``)\n",
    "     \n",
    "     In the transformation stage, we address the model-specific idiosynchrasies, which may require, for example, that all features be represented as numbers (or even numbers within a limited range) or\n",
    "     that all features be discrete, that no values be missing, etc.\n",
    "     A ``DataFrameTransformer`` can, in principle perform an arbitary transformation from one data frame to another, but the typical use case is to apply transformations of feature representations that\n",
    "     are necessary for specific types of models to work (their best).\n",
    "\n",
    "     \n",
    "\n",
    "\n",
    "     "
   ]
  },
  {
   "cell_type": "markdown",
   "metadata": {},
   "source": []
  }
 ],
 "metadata": {
  "interpreter": {
   "hash": "9b3442ae4bdb9561e722e28424c33a03c16d40b3aa50369b79d367cad7b1adea"
  },
  "kernelspec": {
   "display_name": "Python 3.7.9 ('sensai')",
   "language": "python",
   "name": "python3"
  },
  "language_info": {
   "codemirror_mode": {
    "name": "ipython",
    "version": 3
   },
   "file_extension": ".py",
   "mimetype": "text/x-python",
   "name": "python",
   "nbconvert_exporter": "python",
   "pygments_lexer": "ipython3",
   "version": "3.10.18"
  }
 },
 "nbformat": 4,
 "nbformat_minor": 2
}
